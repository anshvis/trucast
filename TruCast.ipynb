{
 "cells": [
  {
   "cell_type": "markdown",
   "metadata": {},
   "source": [
    "# Install Libraries"
   ]
  },
  {
   "cell_type": "code",
   "execution_count": 1,
   "metadata": {},
   "outputs": [
    {
     "name": "stdout",
     "output_type": "stream",
     "text": [
      "Requirement already satisfied: numpy in c:\\users\\chris\\appdata\\local\\programs\\python\\python310\\lib\\site-packages (1.24.2)\n",
      "Note: you may need to restart the kernel to use updated packages.\n",
      "Requirement already satisfied: pandas in c:\\users\\chris\\appdata\\local\\programs\\python\\python310\\lib\\site-packages (1.5.3)\n",
      "Requirement already satisfied: python-dateutil>=2.8.1 in c:\\users\\chris\\appdata\\roaming\\python\\python310\\site-packages (from pandas) (2.8.2)\n",
      "Requirement already satisfied: pytz>=2020.1 in c:\\users\\chris\\appdata\\local\\programs\\python\\python310\\lib\\site-packages (from pandas) (2021.3)\n",
      "Requirement already satisfied: numpy>=1.21.0 in c:\\users\\chris\\appdata\\local\\programs\\python\\python310\\lib\\site-packages (from pandas) (1.24.2)\n",
      "Requirement already satisfied: six>=1.5 in c:\\users\\chris\\appdata\\local\\programs\\python\\python310\\lib\\site-packages (from python-dateutil>=2.8.1->pandas) (1.16.0)\n",
      "Note: you may need to restart the kernel to use updated packages.\n",
      "Requirement already satisfied: openpyxl in c:\\users\\chris\\appdata\\local\\programs\\python\\python310\\lib\\site-packages (3.1.2)\n",
      "Requirement already satisfied: et-xmlfile in c:\\users\\chris\\appdata\\local\\programs\\python\\python310\\lib\\site-packages (from openpyxl) (1.1.0)\n",
      "Note: you may need to restart the kernel to use updated packages.\n",
      "Requirement already satisfied: matplotlib in c:\\users\\chris\\appdata\\local\\programs\\python\\python310\\lib\\site-packages (3.7.0)\n",
      "Requirement already satisfied: contourpy>=1.0.1 in c:\\users\\chris\\appdata\\local\\programs\\python\\python310\\lib\\site-packages (from matplotlib) (1.0.7)\n",
      "Requirement already satisfied: cycler>=0.10 in c:\\users\\chris\\appdata\\local\\programs\\python\\python310\\lib\\site-packages (from matplotlib) (0.11.0)\n",
      "Requirement already satisfied: fonttools>=4.22.0 in c:\\users\\chris\\appdata\\local\\programs\\python\\python310\\lib\\site-packages (from matplotlib) (4.38.0)\n",
      "Requirement already satisfied: kiwisolver>=1.0.1 in c:\\users\\chris\\appdata\\local\\programs\\python\\python310\\lib\\site-packages (from matplotlib) (1.4.4)\n",
      "Requirement already satisfied: numpy>=1.20 in c:\\users\\chris\\appdata\\local\\programs\\python\\python310\\lib\\site-packages (from matplotlib) (1.24.2)\n",
      "Requirement already satisfied: packaging>=20.0 in c:\\users\\chris\\appdata\\local\\programs\\python\\python310\\lib\\site-packages (from matplotlib) (23.1)\n",
      "Requirement already satisfied: pillow>=6.2.0 in c:\\users\\chris\\appdata\\local\\programs\\python\\python310\\lib\\site-packages (from matplotlib) (10.1.0)\n",
      "Requirement already satisfied: pyparsing>=2.3.1 in c:\\users\\chris\\appdata\\local\\programs\\python\\python310\\lib\\site-packages (from matplotlib) (3.0.9)\n",
      "Requirement already satisfied: python-dateutil>=2.7 in c:\\users\\chris\\appdata\\roaming\\python\\python310\\site-packages (from matplotlib) (2.8.2)\n",
      "Requirement already satisfied: six>=1.5 in c:\\users\\chris\\appdata\\local\\programs\\python\\python310\\lib\\site-packages (from python-dateutil>=2.7->matplotlib) (1.16.0)\n",
      "Note: you may need to restart the kernel to use updated packages.\n",
      "Requirement already satisfied: statsmodels in c:\\users\\chris\\appdata\\local\\programs\\python\\python310\\lib\\site-packages (0.13.5)\n",
      "Requirement already satisfied: pandas>=0.25 in c:\\users\\chris\\appdata\\local\\programs\\python\\python310\\lib\\site-packages (from statsmodels) (1.5.3)\n",
      "Requirement already satisfied: patsy>=0.5.2 in c:\\users\\chris\\appdata\\local\\programs\\python\\python310\\lib\\site-packages (from statsmodels) (0.5.3)\n",
      "Requirement already satisfied: packaging>=21.3 in c:\\users\\chris\\appdata\\local\\programs\\python\\python310\\lib\\site-packages (from statsmodels) (23.1)\n",
      "Requirement already satisfied: scipy>=1.3 in c:\\users\\chris\\appdata\\local\\programs\\python\\python310\\lib\\site-packages (from statsmodels) (1.10.1)\n",
      "Requirement already satisfied: numpy>=1.22.3 in c:\\users\\chris\\appdata\\local\\programs\\python\\python310\\lib\\site-packages (from statsmodels) (1.24.2)\n",
      "Requirement already satisfied: python-dateutil>=2.8.1 in c:\\users\\chris\\appdata\\roaming\\python\\python310\\site-packages (from pandas>=0.25->statsmodels) (2.8.2)\n",
      "Requirement already satisfied: pytz>=2020.1 in c:\\users\\chris\\appdata\\local\\programs\\python\\python310\\lib\\site-packages (from pandas>=0.25->statsmodels) (2021.3)\n",
      "Requirement already satisfied: six in c:\\users\\chris\\appdata\\local\\programs\\python\\python310\\lib\\site-packages (from patsy>=0.5.2->statsmodels) (1.16.0)\n",
      "Note: you may need to restart the kernel to use updated packages.\n",
      "Requirement already satisfied: sklearn in c:\\users\\chris\\appdata\\local\\programs\\python\\python310\\lib\\site-packages (0.0.post1)\n",
      "Note: you may need to restart the kernel to use updated packages.\n",
      "Requirement already satisfied: prophet in c:\\users\\chris\\appdata\\local\\programs\\python\\python310\\lib\\site-packages (1.1.5)\n",
      "Requirement already satisfied: cmdstanpy>=1.0.4 in c:\\users\\chris\\appdata\\local\\programs\\python\\python310\\lib\\site-packages (from prophet) (1.2.2)\n",
      "Requirement already satisfied: numpy>=1.15.4 in c:\\users\\chris\\appdata\\local\\programs\\python\\python310\\lib\\site-packages (from prophet) (1.24.2)\n",
      "Requirement already satisfied: matplotlib>=2.0.0 in c:\\users\\chris\\appdata\\local\\programs\\python\\python310\\lib\\site-packages (from prophet) (3.7.0)\n",
      "Requirement already satisfied: pandas>=1.0.4 in c:\\users\\chris\\appdata\\local\\programs\\python\\python310\\lib\\site-packages (from prophet) (1.5.3)\n",
      "Requirement already satisfied: holidays>=0.25 in c:\\users\\chris\\appdata\\local\\programs\\python\\python310\\lib\\site-packages (from prophet) (0.47)\n",
      "Requirement already satisfied: tqdm>=4.36.1 in c:\\users\\chris\\appdata\\local\\programs\\python\\python310\\lib\\site-packages (from prophet) (4.65.0)\n",
      "Requirement already satisfied: importlib-resources in c:\\users\\chris\\appdata\\local\\programs\\python\\python310\\lib\\site-packages (from prophet) (6.4.0)\n",
      "Requirement already satisfied: stanio<2.0.0,>=0.4.0 in c:\\users\\chris\\appdata\\local\\programs\\python\\python310\\lib\\site-packages (from cmdstanpy>=1.0.4->prophet) (0.5.0)\n",
      "Requirement already satisfied: python-dateutil in c:\\users\\chris\\appdata\\roaming\\python\\python310\\site-packages (from holidays>=0.25->prophet) (2.8.2)\n",
      "Requirement already satisfied: contourpy>=1.0.1 in c:\\users\\chris\\appdata\\local\\programs\\python\\python310\\lib\\site-packages (from matplotlib>=2.0.0->prophet) (1.0.7)\n",
      "Requirement already satisfied: cycler>=0.10 in c:\\users\\chris\\appdata\\local\\programs\\python\\python310\\lib\\site-packages (from matplotlib>=2.0.0->prophet) (0.11.0)\n",
      "Requirement already satisfied: fonttools>=4.22.0 in c:\\users\\chris\\appdata\\local\\programs\\python\\python310\\lib\\site-packages (from matplotlib>=2.0.0->prophet) (4.38.0)\n",
      "Requirement already satisfied: kiwisolver>=1.0.1 in c:\\users\\chris\\appdata\\local\\programs\\python\\python310\\lib\\site-packages (from matplotlib>=2.0.0->prophet) (1.4.4)\n",
      "Requirement already satisfied: packaging>=20.0 in c:\\users\\chris\\appdata\\local\\programs\\python\\python310\\lib\\site-packages (from matplotlib>=2.0.0->prophet) (23.1)\n",
      "Requirement already satisfied: pillow>=6.2.0 in c:\\users\\chris\\appdata\\local\\programs\\python\\python310\\lib\\site-packages (from matplotlib>=2.0.0->prophet) (10.1.0)\n",
      "Requirement already satisfied: pyparsing>=2.3.1 in c:\\users\\chris\\appdata\\local\\programs\\python\\python310\\lib\\site-packages (from matplotlib>=2.0.0->prophet) (3.0.9)\n",
      "Requirement already satisfied: pytz>=2020.1 in c:\\users\\chris\\appdata\\local\\programs\\python\\python310\\lib\\site-packages (from pandas>=1.0.4->prophet) (2021.3)\n",
      "Requirement already satisfied: colorama in c:\\users\\chris\\appdata\\roaming\\python\\python310\\site-packages (from tqdm>=4.36.1->prophet) (0.4.6)\n",
      "Requirement already satisfied: six>=1.5 in c:\\users\\chris\\appdata\\local\\programs\\python\\python310\\lib\\site-packages (from python-dateutil->holidays>=0.25->prophet) (1.16.0)\n",
      "Note: you may need to restart the kernel to use updated packages.\n"
     ]
    }
   ],
   "source": [
    "%pip install numpy\n",
    "%pip install pandas\n",
    "%pip install openpyxl\n",
    "%pip install matplotlib\n",
    "%pip install statsmodels\n",
    "%pip install sklearn\n",
    "%pip install prophet"
   ]
  },
  {
   "cell_type": "code",
   "execution_count": 2,
   "metadata": {},
   "outputs": [
    {
     "name": "stderr",
     "output_type": "stream",
     "text": [
      "c:\\Users\\chris\\AppData\\Local\\Programs\\Python\\Python310\\lib\\site-packages\\tqdm\\auto.py:21: TqdmWarning: IProgress not found. Please update jupyter and ipywidgets. See https://ipywidgets.readthedocs.io/en/stable/user_install.html\n",
      "  from .autonotebook import tqdm as notebook_tqdm\n"
     ]
    }
   ],
   "source": [
    "import os\n",
    "import argparse\n",
    "import numpy as np\n",
    "from numpy.linalg import LinAlgError\n",
    "import pandas as pd\n",
    "import matplotlib.pyplot as plt\n",
    "from statsmodels.tsa.statespace.sarimax import SARIMAX\n",
    "from statsmodels.tsa.arima.model import ARIMA\n",
    "from sklearn.metrics import mean_squared_error\n",
    "from prophet import Prophet"
   ]
  },
  {
   "cell_type": "markdown",
   "metadata": {},
   "source": [
    "# Input Arguments"
   ]
  },
  {
   "cell_type": "code",
   "execution_count": 3,
   "metadata": {},
   "outputs": [],
   "source": [
    "EXCEL_FILE_PATH = 'CBO EBO Revenue.xlsx'\n",
    "OUTPUT_FILE_PATH = 'TruCast Output.xlsx'\n",
    "MEDIUM_THRESHOLD = 200000 # in dollars\n",
    "LARGE_THRESHOLD = 533000 # in dollars\n",
    "NUMBER_OF_MONTHS = 12 # in months"
   ]
  },
  {
   "cell_type": "markdown",
   "metadata": {},
   "source": [
    "# Functions"
   ]
  },
  {
   "cell_type": "code",
   "execution_count": 4,
   "metadata": {},
   "outputs": [],
   "source": [
    "def fixed(revenue_series):\n",
    "    return [revenue_series.iloc[-1]]*NUMBER_OF_MONTHS\n",
    "\n",
    "def three_month(revenue_series):\n",
    "    three_month_proj = pd.Series([revenue_series.iloc[-3], revenue_series.iloc[-2], revenue_series.iloc[-1]])\n",
    "    for i in range(3, NUMBER_OF_MONTHS+3):\n",
    "        number_of_non_nan_points = three_month_proj[i-3:].count()\n",
    "        temp_series = three_month_proj.fillna(0)\n",
    "        next_month = (temp_series.iloc[-3] + temp_series.iloc[-2] + temp_series.iloc[-1]) / number_of_non_nan_points\n",
    "        three_month_proj = pd.concat([three_month_proj, pd.Series([next_month])], ignore_index=True)\n",
    "    \n",
    "    three_month_proj = three_month_proj[3:]\n",
    "    return three_month_proj\n",
    "\n",
    "def ARIMA_rolling_forcast_origin(revenue_series, number_of_predicted_months, p, q, d):\n",
    "    # Preforms a rolling forcast origin for an using an arima model on times series data for a set number of number_of_predicted_months < len(revenue_series) \n",
    "    arima_revenue_projection_list = revenue_series.tolist()\n",
    "    total_revenue_by_month_list = revenue_series.tolist()\n",
    "    for index, revenue in enumerate(arima_revenue_projection_list):\n",
    "        if len(arima_revenue_projection_list) - index < number_of_predicted_months:\n",
    "            try:\n",
    "                model = ARIMA(total_revenue_by_month_list[0:index], order=(p, d, q))\n",
    "                try:\n",
    "                    results = model.fit()\n",
    "                    forecast = results.forecast(steps=1)\n",
    "                except LinAlgError as e:\n",
    "                    forecast = [-10000000]\n",
    "                arima_revenue_projection_list[index] = forecast[0]\n",
    "            except LinAlgError as e:\n",
    "                arima_revenue_projection_list[index] = np.nan\n",
    "                continue\n",
    "    arima_revenue_projection = pd.Series(data=arima_revenue_projection_list, index=revenue_series.index)\n",
    "    \n",
    "    return arima_revenue_projection\n",
    "\n",
    "def arima(revenue_series):\n",
    "    # Train on 1/3 of the data\n",
    "    number_of_predicted_months = int(len(revenue_series)/3)\n",
    "\n",
    "    # Choose the range of p and q that you want to optmize over\n",
    "    p_range = 4  #put \n",
    "    q_range = 4  #put \n",
    "    d = 1\n",
    "\n",
    "    # Create an ARIMA model on the data for each value of p and q forcast it forward using a rolling origin forcast, determine which pair of p and q works\n",
    "    # best and output that\n",
    "    arima_revenue_projection_list = revenue_series.tolist()\n",
    "    projection_percent_difference = {}\n",
    "    for i in range(1, p_range):\n",
    "        for ii in range(1, q_range):\n",
    "            projection = ARIMA_rolling_forcast_origin(revenue_series, number_of_predicted_months, i, ii, d)\n",
    "\n",
    "            percent_difference = abs(projection[-number_of_predicted_months:] - arima_revenue_projection_list[-number_of_predicted_months:]) / arima_revenue_projection_list[-number_of_predicted_months:] * 100\n",
    "            projection_avg_percent_difference = percent_difference.mean()\n",
    "\n",
    "            if projection_avg_percent_difference == np.nan:\n",
    "                # If any errors occur set the percent error to really high so it doesn't get choosen\n",
    "                projection_percent_difference[(i, ii)] = 1000\n",
    "            else:\n",
    "                projection_percent_difference[(i, ii)] = projection_avg_percent_difference\n",
    "\n",
    "    min_error_key = min(projection_percent_difference, key=projection_percent_difference.get)\n",
    "    p = min_error_key[0]\n",
    "    q = min_error_key[1]\n",
    "\n",
    "    # Use the ARIMA model that produced the minimum error and forcast 1 time step forward\n",
    "    model = ARIMA(revenue_series, order=(p, d, q))\n",
    "    results = model.fit()\n",
    "    forecast = results.forecast(steps=NUMBER_OF_MONTHS)\n",
    "\n",
    "    return forecast\n",
    "\n",
    "def prophet(revenue_series):\n",
    "    # for the model, make a dataframe with columns 'ds' and 'y' out of the hospital row, which was a Series\n",
    "    curr_hospital = pd.DataFrame({'ds':revenue_series.index, 'y':revenue_series.values})\n",
    "\n",
    "    # make the months datetime objects, and the revenues numbers\n",
    "    curr_hospital['ds'] = pd.to_datetime(curr_hospital['ds'])\n",
    "    curr_hospital['y'] = pd.to_numeric(curr_hospital['y'])\n",
    "\n",
    "    # training on all revenues up to the last year (CAN BE MODIFIED TO BE THE LAST MONTH, TWO MONTHS, ETC.)\n",
    "    # MUDIT COMMENT: JUST GOT RID OF THE \"-NUMBER_OF_MONTHS\" HERE, NOW TRAINING ON ALL DATA IN REVENUE_SERIES\n",
    "    train = curr_hospital.iloc[:len(curr_hospital)]\n",
    "\n",
    "    # testing how accurately we predict the last year (CAN BE MODIFIED TO BE THE LAST MONTH, TWO MONTHS, ETC.)\n",
    "    test = curr_hospital.iloc[len(curr_hospital) - NUMBER_OF_MONTHS:]\n",
    "\n",
    "    # if this row of the dataframe contains less than two non-nan values, we cannot predict on it — SKIP\n",
    "    if train[train['y'].notnull()].shape[0] < 2:\n",
    "        return None # WE SHOULD REDIRECT HERE TO ANOTHER MODEL, IF THERE IS NOT ENOUGH TRAINING DATA FOR PROPHET\n",
    "    \n",
    "    # fit the model, generate the forecast\n",
    "    m = Prophet()\n",
    "    m.fit(train)\n",
    "    future = m.make_future_dataframe(periods = NUMBER_OF_MONTHS, freq='MS')\n",
    "    forecast = m.predict(future)\n",
    "\n",
    "    # generate predictions (contains all from 2004 through 2023)\n",
    "    predictions = forecast[['ds', 'yhat']].set_index('ds')['yhat'].iloc[-NUMBER_OF_MONTHS:]\n",
    "    predictions_lower = forecast[['ds', 'yhat_lower']].set_index('ds')['yhat_lower'].iloc[-NUMBER_OF_MONTHS:]\n",
    "    predictions_upper = forecast[['ds', 'yhat_upper']].set_index('ds')['yhat_upper'].iloc[-NUMBER_OF_MONTHS:]\n",
    "    \n",
    "    output_columns = predictions.index\n",
    "\n",
    "    # return a tuple of the lower, point estimate, and upper bound for the last month\n",
    "    return (predictions.values, predictions_lower.values, predictions_upper.values)\n",
    "    \n",
    "def determine_projection_type(revenue_series, medium_threshold, large_threshold):\n",
    "    THREE_MONTH_AVERAGE_DATA_CUTOFF = 6\n",
    "\n",
    "    if (revenue_series.iloc[-2] == revenue_series.iloc[-1]) or (np.isnan(revenue_series.iloc[-1])):\n",
    "        return 'fixed'\n",
    "    elif revenue_series.iloc[-NUMBER_OF_MONTHS:].count() >= THREE_MONTH_AVERAGE_DATA_CUTOFF:\n",
    "        # if there are less than 12 but more than 6 monthds of data, then find yearly revenue\n",
    "        number_of_month_data_points = revenue_series.iloc[-NUMBER_OF_MONTHS:].count()\n",
    "        yearly_revenue = (sum(revenue_series.iloc[-number_of_month_data_points:])/number_of_month_data_points)*12\n",
    "    else:\n",
    "        # if there isn't a years worth of data just return a 3 month average\n",
    "        return 'three_month'\n",
    "    #MODIFIED FOR TESTING\n",
    "    if yearly_revenue > medium_threshold:\n",
    "        return 'prophet'\n",
    "    else:\n",
    "        return 'prophet'\n",
    "    \n",
    "def rename_duplicates(names):\n",
    "    name_count = {}\n",
    "    modified_names = []\n",
    "\n",
    "    for name in names:\n",
    "        if name in name_count:\n",
    "            name_count[name] += 1\n",
    "        else:\n",
    "            name_count[name] = 1\n",
    "\n",
    "        if name_count[name] == 1:\n",
    "            modified_names.append(name)\n",
    "        else:\n",
    "            modified_names.append(f\"{name}_{name_count[name]-1}\")\n",
    "\n",
    "    return modified_names"
   ]
  },
  {
   "cell_type": "markdown",
   "metadata": {},
   "source": [
    "# TruCast"
   ]
  },
  {
   "cell_type": "code",
   "execution_count": 5,
   "metadata": {
    "scrolled": true
   },
   "outputs": [
    {
     "name": "stdout",
     "output_type": "stream",
     "text": [
      "Abraham Lincoln: fixed\n",
      "Acadia-St.Landry Hospital: prophet\n"
     ]
    },
    {
     "name": "stderr",
     "output_type": "stream",
     "text": [
      "16:55:05 - cmdstanpy - INFO - Chain [1] start processing\n",
      "16:55:05 - cmdstanpy - INFO - Chain [1] done processing\n",
      "16:55:05 - cmdstanpy - INFO - Chain [1] start processing\n",
      "16:55:05 - cmdstanpy - INFO - Chain [1] done processing\n"
     ]
    },
    {
     "name": "stdout",
     "output_type": "stream",
     "text": [
      "Adirondack Medical Center: fixed\n",
      "Alaska Native Tribal Health: prophet\n",
      "Aleutian Pribilof Islands Association: prophet\n"
     ]
    },
    {
     "name": "stderr",
     "output_type": "stream",
     "text": [
      "16:55:06 - cmdstanpy - INFO - Chain [1] start processing\n",
      "16:55:06 - cmdstanpy - INFO - Chain [1] done processing\n",
      "16:55:06 - cmdstanpy - INFO - Chain [1] start processing\n"
     ]
    },
    {
     "name": "stdout",
     "output_type": "stream",
     "text": [
      "Allen Parish: prophet\n"
     ]
    },
    {
     "name": "stderr",
     "output_type": "stream",
     "text": [
      "16:55:06 - cmdstanpy - INFO - Chain [1] done processing\n",
      "16:55:06 - cmdstanpy - INFO - Chain [1] start processing\n"
     ]
    },
    {
     "name": "stdout",
     "output_type": "stream",
     "text": [
      "American Behavioral Health Systems, Inc.: prophet\n"
     ]
    },
    {
     "name": "stderr",
     "output_type": "stream",
     "text": [
      "16:55:07 - cmdstanpy - INFO - Chain [1] done processing\n",
      "16:55:07 - cmdstanpy - INFO - Chain [1] start processing\n"
     ]
    },
    {
     "name": "stdout",
     "output_type": "stream",
     "text": [
      "Arbuckle Memorial: fixed\n",
      "Arizona General: fixed\n",
      "Artesia General: prophet\n"
     ]
    },
    {
     "name": "stderr",
     "output_type": "stream",
     "text": [
      "16:55:07 - cmdstanpy - INFO - Chain [1] done processing\n",
      "16:55:07 - cmdstanpy - INFO - Chain [1] start processing\n"
     ]
    },
    {
     "name": "stdout",
     "output_type": "stream",
     "text": [
      "Atchison Clinic: fixed\n",
      "Atchison Hospital: prophet\n"
     ]
    },
    {
     "name": "stderr",
     "output_type": "stream",
     "text": [
      "16:55:08 - cmdstanpy - INFO - Chain [1] done processing\n",
      "16:55:08 - cmdstanpy - INFO - Chain [1] start processing\n"
     ]
    },
    {
     "name": "stdout",
     "output_type": "stream",
     "text": [
      "BAYSIDE COMMUNITY CLINIC: prophet\n"
     ]
    },
    {
     "name": "stderr",
     "output_type": "stream",
     "text": [
      "16:55:08 - cmdstanpy - INFO - Chain [1] done processing\n",
      "16:55:09 - cmdstanpy - INFO - Chain [1] start processing\n"
     ]
    },
    {
     "name": "stdout",
     "output_type": "stream",
     "text": [
      "BAYSIDE COMMUNITY HOSPITAL: prophet\n"
     ]
    },
    {
     "name": "stderr",
     "output_type": "stream",
     "text": [
      "16:55:09 - cmdstanpy - INFO - Chain [1] done processing\n",
      "16:55:09 - cmdstanpy - INFO - Chain [1] start processing\n"
     ]
    },
    {
     "name": "stdout",
     "output_type": "stream",
     "text": [
      "BEAR VALLEY COMMUNITY HEALTHCARE: prophet\n"
     ]
    },
    {
     "name": "stderr",
     "output_type": "stream",
     "text": [
      "16:55:09 - cmdstanpy - INFO - Chain [1] done processing\n",
      "16:55:10 - cmdstanpy - INFO - Chain [1] start processing\n"
     ]
    },
    {
     "name": "stdout",
     "output_type": "stream",
     "text": [
      "Barlow Respiratory Hospital: fixed\n",
      "Bath Community Hospital: prophet\n"
     ]
    },
    {
     "name": "stderr",
     "output_type": "stream",
     "text": [
      "16:55:10 - cmdstanpy - INFO - Chain [1] done processing\n",
      "16:55:10 - cmdstanpy - INFO - Chain [1] start processing\n"
     ]
    },
    {
     "name": "stdout",
     "output_type": "stream",
     "text": [
      "Big Sandy Medical Center: fixed\n",
      "Big South Fork Medical Center: prophet\n"
     ]
    },
    {
     "name": "stderr",
     "output_type": "stream",
     "text": [
      "16:55:10 - cmdstanpy - INFO - Chain [1] done processing\n",
      "16:55:10 - cmdstanpy - INFO - Chain [1] start processing\n"
     ]
    },
    {
     "name": "stdout",
     "output_type": "stream",
     "text": [
      "Black Hills Surgical: fixed\n",
      "Boone Memorial: prophet\n"
     ]
    },
    {
     "name": "stderr",
     "output_type": "stream",
     "text": [
      "16:55:11 - cmdstanpy - INFO - Chain [1] done processing\n",
      "16:55:11 - cmdstanpy - INFO - Chain [1] start processing\n"
     ]
    },
    {
     "name": "stdout",
     "output_type": "stream",
     "text": [
      "Bristow (CMOS): fixed\n",
      "Brodstone: fixed\n",
      "Brodstone Medicaid: fixed\n",
      "Brownfield Regional: prophet\n"
     ]
    },
    {
     "name": "stderr",
     "output_type": "stream",
     "text": [
      "16:55:11 - cmdstanpy - INFO - Chain [1] done processing\n",
      "16:55:11 - cmdstanpy - INFO - Chain [1] start processing\n"
     ]
    },
    {
     "name": "stdout",
     "output_type": "stream",
     "text": [
      "Buchanan Clinic: fixed\n",
      "Buchanan General: prophet\n"
     ]
    },
    {
     "name": "stderr",
     "output_type": "stream",
     "text": [
      "16:55:12 - cmdstanpy - INFO - Chain [1] done processing\n",
      "16:55:12 - cmdstanpy - INFO - Chain [1] start processing\n"
     ]
    },
    {
     "name": "stdout",
     "output_type": "stream",
     "text": [
      "Buchanan Surgical Clinic: fixed\n",
      "Buchanan Tri-State Clinic: prophet\n"
     ]
    },
    {
     "name": "stderr",
     "output_type": "stream",
     "text": [
      "16:55:12 - cmdstanpy - INFO - Chain [1] done processing\n",
      "16:55:12 - cmdstanpy - INFO - Chain [1] start processing\n"
     ]
    },
    {
     "name": "stdout",
     "output_type": "stream",
     "text": [
      "Burke Hospital: prophet\n"
     ]
    },
    {
     "name": "stderr",
     "output_type": "stream",
     "text": [
      "16:55:12 - cmdstanpy - INFO - Chain [1] done processing\n",
      "16:55:13 - cmdstanpy - INFO - Chain [1] start processing\n"
     ]
    },
    {
     "name": "stdout",
     "output_type": "stream",
     "text": [
      "CHC Community Care: prophet\n"
     ]
    },
    {
     "name": "stderr",
     "output_type": "stream",
     "text": [
      "16:55:13 - cmdstanpy - INFO - Chain [1] done processing\n",
      "16:55:13 - cmdstanpy - INFO - Chain [1] start processing\n"
     ]
    },
    {
     "name": "stdout",
     "output_type": "stream",
     "text": [
      "Caldwell: fixed\n",
      "Caldwell - ARMS Clinic: fixed\n",
      "Caldwell - IFS: fixed\n",
      "Calhoun Liberty Hospital: prophet\n"
     ]
    },
    {
     "name": "stderr",
     "output_type": "stream",
     "text": [
      "16:55:13 - cmdstanpy - INFO - Chain [1] done processing\n",
      "16:55:13 - cmdstanpy - INFO - Chain [1] start processing\n"
     ]
    },
    {
     "name": "stdout",
     "output_type": "stream",
     "text": [
      "Cascade: fixed\n",
      "Cedar County: prophet\n"
     ]
    },
    {
     "name": "stderr",
     "output_type": "stream",
     "text": [
      "16:55:13 - cmdstanpy - INFO - Chain [1] done processing\n"
     ]
    },
    {
     "name": "stdout",
     "output_type": "stream",
     "text": [
      "Cedar Lake Nursing Home: three_month\n",
      "Childress Regional: prophet\n"
     ]
    },
    {
     "name": "stderr",
     "output_type": "stream",
     "text": [
      "16:55:14 - cmdstanpy - INFO - Chain [1] start processing\n",
      "16:55:14 - cmdstanpy - INFO - Chain [1] done processing\n",
      "16:55:14 - cmdstanpy - INFO - Chain [1] start processing\n"
     ]
    },
    {
     "name": "stdout",
     "output_type": "stream",
     "text": [
      "Christus Health: prophet\n"
     ]
    },
    {
     "name": "stderr",
     "output_type": "stream",
     "text": [
      "16:55:14 - cmdstanpy - INFO - Chain [1] done processing\n",
      "16:55:15 - cmdstanpy - INFO - Chain [1] start processing\n"
     ]
    },
    {
     "name": "stdout",
     "output_type": "stream",
     "text": [
      "City Hospital: fixed\n",
      "Claiborne County: prophet\n"
     ]
    },
    {
     "name": "stderr",
     "output_type": "stream",
     "text": [
      "16:55:15 - cmdstanpy - INFO - Chain [1] done processing\n",
      "16:55:15 - cmdstanpy - INFO - Chain [1] start processing\n"
     ]
    },
    {
     "name": "stdout",
     "output_type": "stream",
     "text": [
      "Clifton Fine: fixed\n",
      "Clinch Memorial Hospital: prophet\n"
     ]
    },
    {
     "name": "stderr",
     "output_type": "stream",
     "text": [
      "16:55:15 - cmdstanpy - INFO - Chain [1] done processing\n",
      "16:55:15 - cmdstanpy - INFO - Chain [1] start processing\n"
     ]
    },
    {
     "name": "stdout",
     "output_type": "stream",
     "text": [
      "Coal County: prophet\n"
     ]
    },
    {
     "name": "stderr",
     "output_type": "stream",
     "text": [
      "16:55:16 - cmdstanpy - INFO - Chain [1] done processing\n",
      "16:55:16 - cmdstanpy - INFO - Chain [1] start processing\n"
     ]
    },
    {
     "name": "stdout",
     "output_type": "stream",
     "text": [
      "Coal County (Clinic): prophet\n"
     ]
    },
    {
     "name": "stderr",
     "output_type": "stream",
     "text": [
      "16:55:16 - cmdstanpy - INFO - Chain [1] done processing\n",
      "16:55:16 - cmdstanpy - INFO - Chain [1] start processing\n"
     ]
    },
    {
     "name": "stdout",
     "output_type": "stream",
     "text": [
      "Columbia Surgical Specialists, P.S: fixed\n",
      "Columbus Specialty: prophet\n"
     ]
    },
    {
     "name": "stderr",
     "output_type": "stream",
     "text": [
      "16:55:16 - cmdstanpy - INFO - Chain [1] done processing\n",
      "16:55:17 - cmdstanpy - INFO - Chain [1] start processing\n"
     ]
    },
    {
     "name": "stdout",
     "output_type": "stream",
     "text": [
      "Community Hospital: prophet\n"
     ]
    },
    {
     "name": "stderr",
     "output_type": "stream",
     "text": [
      "16:55:17 - cmdstanpy - INFO - Chain [1] done processing\n",
      "16:55:17 - cmdstanpy - INFO - Chain [1] start processing\n",
      "16:55:17 - cmdstanpy - INFO - Chain [1] done processing\n"
     ]
    },
    {
     "name": "stdout",
     "output_type": "stream",
     "text": [
      "Confederated Tribe of Siletz Indians: prophet\n",
      "Coosa Valley Medical Center - Clinic: prophet\n"
     ]
    },
    {
     "name": "stderr",
     "output_type": "stream",
     "text": [
      "16:55:17 - cmdstanpy - INFO - Chain [1] start processing\n",
      "16:55:17 - cmdstanpy - INFO - Chain [1] done processing\n",
      "16:55:17 - cmdstanpy - INFO - Chain [1] start processing\n"
     ]
    },
    {
     "name": "stdout",
     "output_type": "stream",
     "text": [
      "Coosa Valley Medical Center - Hospital: prophet\n"
     ]
    },
    {
     "name": "stderr",
     "output_type": "stream",
     "text": [
      "16:55:18 - cmdstanpy - INFO - Chain [1] done processing\n",
      "16:55:18 - cmdstanpy - INFO - Chain [1] start processing\n",
      "16:55:18 - cmdstanpy - INFO - Chain [1] done processing\n"
     ]
    },
    {
     "name": "stdout",
     "output_type": "stream",
     "text": [
      "Copely Hospital: prophet\n"
     ]
    },
    {
     "name": "stderr",
     "output_type": "stream",
     "text": [
      "16:55:18 - cmdstanpy - INFO - Chain [1] start processing\n",
      "16:55:18 - cmdstanpy - INFO - Chain [1] done processing\n"
     ]
    },
    {
     "name": "stdout",
     "output_type": "stream",
     "text": [
      "Copper River Native Association: prophet\n"
     ]
    },
    {
     "name": "stderr",
     "output_type": "stream",
     "text": [
      "16:55:18 - cmdstanpy - INFO - Chain [1] start processing\n"
     ]
    },
    {
     "name": "stdout",
     "output_type": "stream",
     "text": [
      "Covington County: prophet\n"
     ]
    },
    {
     "name": "stderr",
     "output_type": "stream",
     "text": [
      "16:55:19 - cmdstanpy - INFO - Chain [1] done processing\n",
      "16:55:19 - cmdstanpy - INFO - Chain [1] start processing\n"
     ]
    },
    {
     "name": "stdout",
     "output_type": "stream",
     "text": [
      "Crenshaw Clinic: prophet\n"
     ]
    },
    {
     "name": "stderr",
     "output_type": "stream",
     "text": [
      "16:55:19 - cmdstanpy - INFO - Chain [1] done processing\n",
      "16:55:19 - cmdstanpy - INFO - Chain [1] start processing\n"
     ]
    },
    {
     "name": "stdout",
     "output_type": "stream",
     "text": [
      "Crenshaw Community: prophet\n"
     ]
    },
    {
     "name": "stderr",
     "output_type": "stream",
     "text": [
      "16:55:19 - cmdstanpy - INFO - Chain [1] done processing\n",
      "16:55:19 - cmdstanpy - INFO - Chain [1] start processing\n"
     ]
    },
    {
     "name": "stdout",
     "output_type": "stream",
     "text": [
      "Crook County: prophet\n"
     ]
    },
    {
     "name": "stderr",
     "output_type": "stream",
     "text": [
      "16:55:20 - cmdstanpy - INFO - Chain [1] done processing\n",
      "16:55:20 - cmdstanpy - INFO - Chain [1] start processing\n"
     ]
    },
    {
     "name": "stdout",
     "output_type": "stream",
     "text": [
      "Cumberland County: prophet\n"
     ]
    },
    {
     "name": "stderr",
     "output_type": "stream",
     "text": [
      "16:55:20 - cmdstanpy - INFO - Chain [1] done processing\n",
      "16:55:20 - cmdstanpy - INFO - Chain [1] start processing\n",
      "16:55:20 - cmdstanpy - INFO - Chain [1] done processing\n"
     ]
    },
    {
     "name": "stdout",
     "output_type": "stream",
     "text": [
      "Cumberland River: fixed\n",
      "Curry General: prophet\n",
      "DeSoto Clinic: prophet\n"
     ]
    },
    {
     "name": "stderr",
     "output_type": "stream",
     "text": [
      "16:55:21 - cmdstanpy - INFO - Chain [1] start processing\n",
      "16:55:21 - cmdstanpy - INFO - Chain [1] done processing\n",
      "16:55:21 - cmdstanpy - INFO - Chain [1] start processing\n"
     ]
    },
    {
     "name": "stdout",
     "output_type": "stream",
     "text": [
      "DeSoto Regional: prophet\n"
     ]
    },
    {
     "name": "stderr",
     "output_type": "stream",
     "text": [
      "16:55:21 - cmdstanpy - INFO - Chain [1] done processing\n",
      "16:55:22 - cmdstanpy - INFO - Chain [1] start processing\n",
      "16:55:22 - cmdstanpy - INFO - Chain [1] done processing\n"
     ]
    },
    {
     "name": "stdout",
     "output_type": "stream",
     "text": [
      "Decatur County: prophet\n"
     ]
    },
    {
     "name": "stderr",
     "output_type": "stream",
     "text": [
      "16:55:22 - cmdstanpy - INFO - Chain [1] start processing\n"
     ]
    },
    {
     "name": "stdout",
     "output_type": "stream",
     "text": [
      "Divine Savior: fixed\n",
      "Drew Memorial Hospital: prophet\n"
     ]
    },
    {
     "name": "stderr",
     "output_type": "stream",
     "text": [
      "16:55:22 - cmdstanpy - INFO - Chain [1] done processing\n",
      "16:55:22 - cmdstanpy - INFO - Chain [1] start processing\n"
     ]
    },
    {
     "name": "stdout",
     "output_type": "stream",
     "text": [
      "East Mesa: fixed\n",
      "El Campo Memorial Hospital: prophet\n"
     ]
    },
    {
     "name": "stderr",
     "output_type": "stream",
     "text": [
      "16:55:22 - cmdstanpy - INFO - Chain [1] done processing\n",
      "16:55:22 - cmdstanpy - INFO - Chain [1] start processing\n"
     ]
    },
    {
     "name": "stdout",
     "output_type": "stream",
     "text": [
      "El Llano: fixed\n",
      "Electra Hospital: fixed\n",
      "Elkview General Hospital: fixed\n",
      "Erlanger W Carolina Hospital: fixed\n",
      "Escambia County: prophet\n"
     ]
    },
    {
     "name": "stderr",
     "output_type": "stream",
     "text": [
      "16:55:23 - cmdstanpy - INFO - Chain [1] done processing\n",
      "16:55:23 - cmdstanpy - INFO - Chain [1] start processing\n"
     ]
    },
    {
     "name": "stdout",
     "output_type": "stream",
     "text": [
      "Escambia County_1: prophet\n"
     ]
    },
    {
     "name": "stderr",
     "output_type": "stream",
     "text": [
      "16:55:23 - cmdstanpy - INFO - Chain [1] done processing\n",
      "16:55:23 - cmdstanpy - INFO - Chain [1] start processing\n",
      "16:55:23 - cmdstanpy - INFO - Chain [1] done processing\n"
     ]
    },
    {
     "name": "stdout",
     "output_type": "stream",
     "text": [
      "Evergreen Medical Center: prophet\n"
     ]
    },
    {
     "name": "stderr",
     "output_type": "stream",
     "text": [
      "16:55:23 - cmdstanpy - INFO - Chain [1] start processing\n"
     ]
    },
    {
     "name": "stdout",
     "output_type": "stream",
     "text": [
      "Excelsior Springs: prophet\n"
     ]
    },
    {
     "name": "stderr",
     "output_type": "stream",
     "text": [
      "16:55:24 - cmdstanpy - INFO - Chain [1] done processing\n",
      "16:55:24 - cmdstanpy - INFO - Chain [1] start processing\n"
     ]
    },
    {
     "name": "stdout",
     "output_type": "stream",
     "text": [
      "FLINT RIVER: prophet\n"
     ]
    },
    {
     "name": "stderr",
     "output_type": "stream",
     "text": [
      "16:55:24 - cmdstanpy - INFO - Chain [1] done processing\n",
      "16:55:24 - cmdstanpy - INFO - Chain [1] start processing\n",
      "16:55:25 - cmdstanpy - INFO - Chain [1] done processing\n"
     ]
    },
    {
     "name": "stdout",
     "output_type": "stream",
     "text": [
      "Faith Community Hospital: fixed\n",
      "Fallon Medical Complex: fixed\n",
      "Ferry County Public Hospital District: prophet\n"
     ]
    },
    {
     "name": "stderr",
     "output_type": "stream",
     "text": [
      "16:55:25 - cmdstanpy - INFO - Chain [1] start processing\n"
     ]
    },
    {
     "name": "stdout",
     "output_type": "stream",
     "text": [
      "Fisher County: fixed\n",
      "Fisher County Hospital District: three_month\n",
      "Fountain Hills: fixed\n",
      "Frio Regional: prophet\n"
     ]
    },
    {
     "name": "stderr",
     "output_type": "stream",
     "text": [
      "16:55:25 - cmdstanpy - INFO - Chain [1] done processing\n",
      "16:55:25 - cmdstanpy - INFO - Chain [1] start processing\n",
      "16:55:25 - cmdstanpy - INFO - Chain [1] done processing\n"
     ]
    },
    {
     "name": "stdout",
     "output_type": "stream",
     "text": [
      "GREENE COUNTY GENERAL HOSPITAL: fixed\n",
      "Garfield County Hospital District: prophet\n"
     ]
    },
    {
     "name": "stderr",
     "output_type": "stream",
     "text": [
      "16:55:25 - cmdstanpy - INFO - Chain [1] start processing\n",
      "16:55:25 - cmdstanpy - INFO - Chain [1] done processing\n"
     ]
    },
    {
     "name": "stdout",
     "output_type": "stream",
     "text": [
      "George E. Weems: prophet\n",
      "Gifford Healthcare: fixed\n",
      "Grove Hill Memorial Hospital: prophet\n"
     ]
    },
    {
     "name": "stderr",
     "output_type": "stream",
     "text": [
      "16:55:25 - cmdstanpy - INFO - Chain [1] start processing\n",
      "16:55:26 - cmdstanpy - INFO - Chain [1] done processing\n",
      "16:55:26 - cmdstanpy - INFO - Chain [1] start processing\n",
      "16:55:26 - cmdstanpy - INFO - Chain [1] done processing\n"
     ]
    },
    {
     "name": "stdout",
     "output_type": "stream",
     "text": [
      "Harbor Regional Health: three_month\n",
      "Hardtner Medical Center: fixed\n",
      "Healdsburg District Hospital: prophet\n"
     ]
    },
    {
     "name": "stderr",
     "output_type": "stream",
     "text": [
      "16:55:26 - cmdstanpy - INFO - Chain [1] start processing\n"
     ]
    },
    {
     "name": "stdout",
     "output_type": "stream",
     "text": [
      "Henderson County: prophet\n"
     ]
    },
    {
     "name": "stderr",
     "output_type": "stream",
     "text": [
      "16:55:26 - cmdstanpy - INFO - Chain [1] done processing\n",
      "16:55:26 - cmdstanpy - INFO - Chain [1] start processing\n"
     ]
    },
    {
     "name": "stdout",
     "output_type": "stream",
     "text": [
      "Henry County: fixed\n",
      "Herington Hospital: fixed\n",
      "Hiawatha: prophet\n"
     ]
    },
    {
     "name": "stderr",
     "output_type": "stream",
     "text": [
      "16:55:27 - cmdstanpy - INFO - Chain [1] done processing\n",
      "16:55:27 - cmdstanpy - INFO - Chain [1] start processing\n"
     ]
    },
    {
     "name": "stdout",
     "output_type": "stream",
     "text": [
      "Highland: fixed\n",
      "Holy Cross Clinic: prophet\n"
     ]
    },
    {
     "name": "stderr",
     "output_type": "stream",
     "text": [
      "16:55:27 - cmdstanpy - INFO - Chain [1] done processing\n",
      "16:55:27 - cmdstanpy - INFO - Chain [1] start processing\n"
     ]
    },
    {
     "name": "stdout",
     "output_type": "stream",
     "text": [
      "Holy Cross Hospital: prophet\n"
     ]
    },
    {
     "name": "stderr",
     "output_type": "stream",
     "text": [
      "16:55:28 - cmdstanpy - INFO - Chain [1] done processing\n",
      "16:55:28 - cmdstanpy - INFO - Chain [1] start processing\n",
      "16:55:28 - cmdstanpy - INFO - Chain [1] done processing\n"
     ]
    },
    {
     "name": "stdout",
     "output_type": "stream",
     "text": [
      "Houston County: fixed\n",
      "Huggins (ARMS): fixed\n",
      "Huggins ARMS: prophet\n"
     ]
    },
    {
     "name": "stderr",
     "output_type": "stream",
     "text": [
      "16:55:28 - cmdstanpy - INFO - Chain [1] start processing\n",
      "16:55:28 - cmdstanpy - INFO - Chain [1] done processing\n"
     ]
    },
    {
     "name": "stdout",
     "output_type": "stream",
     "text": [
      "Huggins CMOS: fixed\n",
      "Huron Regional: fixed\n",
      "Institute for Orthopaedic Surgery: fixed\n",
      "Iroquois Memorial Hospital: prophet\n"
     ]
    },
    {
     "name": "stderr",
     "output_type": "stream",
     "text": [
      "16:55:28 - cmdstanpy - INFO - Chain [1] start processing\n",
      "16:55:28 - cmdstanpy - INFO - Chain [1] done processing\n"
     ]
    },
    {
     "name": "stdout",
     "output_type": "stream",
     "text": [
      "J. Arthur Doser: prophet\n"
     ]
    },
    {
     "name": "stderr",
     "output_type": "stream",
     "text": [
      "16:55:29 - cmdstanpy - INFO - Chain [1] start processing\n"
     ]
    },
    {
     "name": "stdout",
     "output_type": "stream",
     "text": [
      "Jackson Hospital & Clinics: fixed\n",
      "Jackson Medical AL: prophet\n"
     ]
    },
    {
     "name": "stderr",
     "output_type": "stream",
     "text": [
      "16:55:29 - cmdstanpy - INFO - Chain [1] done processing\n",
      "16:55:29 - cmdstanpy - INFO - Chain [1] start processing\n"
     ]
    },
    {
     "name": "stdout",
     "output_type": "stream",
     "text": [
      "Jefferson Hospital: prophet\n"
     ]
    },
    {
     "name": "stderr",
     "output_type": "stream",
     "text": [
      "16:55:29 - cmdstanpy - INFO - Chain [1] done processing\n",
      "16:55:29 - cmdstanpy - INFO - Chain [1] start processing\n"
     ]
    },
    {
     "name": "stdout",
     "output_type": "stream",
     "text": [
      "Jenkins County: prophet\n"
     ]
    },
    {
     "name": "stderr",
     "output_type": "stream",
     "text": [
      "16:55:30 - cmdstanpy - INFO - Chain [1] done processing\n",
      "16:55:30 - cmdstanpy - INFO - Chain [1] start processing\n"
     ]
    },
    {
     "name": "stdout",
     "output_type": "stream",
     "text": [
      "Jennie Stuart Medical Center: prophet\n"
     ]
    },
    {
     "name": "stderr",
     "output_type": "stream",
     "text": [
      "16:55:30 - cmdstanpy - INFO - Chain [1] done processing\n",
      "16:55:30 - cmdstanpy - INFO - Chain [1] start processing\n",
      "16:55:30 - cmdstanpy - INFO - Chain [1] done processing\n"
     ]
    },
    {
     "name": "stdout",
     "output_type": "stream",
     "text": [
      "Jersey CMOS: fixed\n",
      "John C. Fremont Healthcare District: prophet\n"
     ]
    },
    {
     "name": "stderr",
     "output_type": "stream",
     "text": [
      "16:55:31 - cmdstanpy - INFO - Chain [1] start processing\n"
     ]
    },
    {
     "name": "stdout",
     "output_type": "stream",
     "text": [
      "KANSAS SURGERY AND RECOVERY CENTER: prophet\n"
     ]
    },
    {
     "name": "stderr",
     "output_type": "stream",
     "text": [
      "16:55:31 - cmdstanpy - INFO - Chain [1] done processing\n",
      "16:55:31 - cmdstanpy - INFO - Chain [1] start processing\n"
     ]
    },
    {
     "name": "stdout",
     "output_type": "stream",
     "text": [
      "KH - Philadelphia: prophet\n"
     ]
    },
    {
     "name": "stderr",
     "output_type": "stream",
     "text": [
      "16:55:32 - cmdstanpy - INFO - Chain [1] done processing\n",
      "16:55:32 - cmdstanpy - INFO - Chain [1] start processing\n",
      "16:55:32 - cmdstanpy - INFO - Chain [1] done processing\n"
     ]
    },
    {
     "name": "stdout",
     "output_type": "stream",
     "text": [
      "Kalispel Tribe of Indians: prophet\n"
     ]
    },
    {
     "name": "stderr",
     "output_type": "stream",
     "text": [
      "16:55:32 - cmdstanpy - INFO - Chain [1] start processing\n",
      "16:55:32 - cmdstanpy - INFO - Chain [1] done processing\n"
     ]
    },
    {
     "name": "stdout",
     "output_type": "stream",
     "text": [
      "Kenaitze Indian Tribe: prophet\n"
     ]
    },
    {
     "name": "stderr",
     "output_type": "stream",
     "text": [
      "16:55:32 - cmdstanpy - INFO - Chain [1] start processing\n"
     ]
    },
    {
     "name": "stdout",
     "output_type": "stream",
     "text": [
      "Kimball Health Services: prophet\n"
     ]
    },
    {
     "name": "stderr",
     "output_type": "stream",
     "text": [
      "16:55:32 - cmdstanpy - INFO - Chain [1] done processing\n",
      "16:55:33 - cmdstanpy - INFO - Chain [1] start processing\n"
     ]
    },
    {
     "name": "stdout",
     "output_type": "stream",
     "text": [
      "Kimball Health Services (Clinic): prophet\n"
     ]
    },
    {
     "name": "stderr",
     "output_type": "stream",
     "text": [
      "16:55:33 - cmdstanpy - INFO - Chain [1] done processing\n",
      "16:55:33 - cmdstanpy - INFO - Chain [1] start processing\n"
     ]
    },
    {
     "name": "stdout",
     "output_type": "stream",
     "text": [
      "Kiowa City: prophet\n"
     ]
    },
    {
     "name": "stderr",
     "output_type": "stream",
     "text": [
      "16:55:33 - cmdstanpy - INFO - Chain [1] done processing\n",
      "16:55:33 - cmdstanpy - INFO - Chain [1] start processing\n"
     ]
    },
    {
     "name": "stdout",
     "output_type": "stream",
     "text": [
      "Kit Carson Clinic: prophet\n"
     ]
    },
    {
     "name": "stderr",
     "output_type": "stream",
     "text": [
      "16:55:33 - cmdstanpy - INFO - Chain [1] done processing\n",
      "16:55:34 - cmdstanpy - INFO - Chain [1] start processing\n"
     ]
    },
    {
     "name": "stdout",
     "output_type": "stream",
     "text": [
      "Kit Carson County Memorial Hospital: prophet\n"
     ]
    },
    {
     "name": "stderr",
     "output_type": "stream",
     "text": [
      "16:55:34 - cmdstanpy - INFO - Chain [1] done processing\n",
      "16:55:34 - cmdstanpy - INFO - Chain [1] start processing\n",
      "16:55:34 - cmdstanpy - INFO - Chain [1] done processing\n"
     ]
    },
    {
     "name": "stdout",
     "output_type": "stream",
     "text": [
      "Kodiak Area Native Association: fixed\n",
      "LABETTE HEALTH: fixed\n",
      "La Paz (PE): prophet\n",
      "LaSalle General Hospital: prophet\n"
     ]
    },
    {
     "name": "stderr",
     "output_type": "stream",
     "text": [
      "16:55:34 - cmdstanpy - INFO - Chain [1] start processing\n",
      "16:55:34 - cmdstanpy - INFO - Chain [1] done processing\n",
      "16:55:34 - cmdstanpy - INFO - Chain [1] start processing\n",
      "16:55:34 - cmdstanpy - INFO - Chain [1] done processing\n"
     ]
    },
    {
     "name": "stdout",
     "output_type": "stream",
     "text": [
      "Lamar Healthcare: prophet\n",
      "Lee Carlson: prophet\n"
     ]
    },
    {
     "name": "stderr",
     "output_type": "stream",
     "text": [
      "16:55:35 - cmdstanpy - INFO - Chain [1] start processing\n",
      "16:55:35 - cmdstanpy - INFO - Chain [1] done processing\n",
      "16:55:35 - cmdstanpy - INFO - Chain [1] start processing\n",
      "16:55:35 - cmdstanpy - INFO - Chain [1] done processing\n"
     ]
    },
    {
     "name": "stdout",
     "output_type": "stream",
     "text": [
      "Legent Hospital for Special Surgery: prophet\n",
      "Legent Northwest Houston: prophet\n"
     ]
    },
    {
     "name": "stderr",
     "output_type": "stream",
     "text": [
      "16:55:35 - cmdstanpy - INFO - Chain [1] start processing\n",
      "16:55:35 - cmdstanpy - INFO - Chain [1] done processing\n",
      "16:55:35 - cmdstanpy - INFO - Chain [1] start processing\n",
      "16:55:35 - cmdstanpy - INFO - Chain [1] done processing\n"
     ]
    },
    {
     "name": "stdout",
     "output_type": "stream",
     "text": [
      "Legent Orthopedic Hospital: prophet\n",
      "Legent Orthopedic and Spine: prophet\n"
     ]
    },
    {
     "name": "stderr",
     "output_type": "stream",
     "text": [
      "16:55:35 - cmdstanpy - INFO - Chain [1] start processing\n",
      "16:55:35 - cmdstanpy - INFO - Chain [1] done processing\n",
      "16:55:35 - cmdstanpy - INFO - Chain [1] start processing\n"
     ]
    },
    {
     "name": "stdout",
     "output_type": "stream",
     "text": [
      "Liberty Regional: prophet\n"
     ]
    },
    {
     "name": "stderr",
     "output_type": "stream",
     "text": [
      "16:55:36 - cmdstanpy - INFO - Chain [1] done processing\n",
      "16:55:36 - cmdstanpy - INFO - Chain [1] start processing\n"
     ]
    },
    {
     "name": "stdout",
     "output_type": "stream",
     "text": [
      "Lincoln Community Hospital & NH: prophet\n"
     ]
    },
    {
     "name": "stderr",
     "output_type": "stream",
     "text": [
      "16:55:36 - cmdstanpy - INFO - Chain [1] done processing\n",
      "16:55:36 - cmdstanpy - INFO - Chain [1] start processing\n",
      "16:55:36 - cmdstanpy - INFO - Chain [1] done processing\n"
     ]
    },
    {
     "name": "stdout",
     "output_type": "stream",
     "text": [
      "Lincoln Glen Skilled Nursing Care: three_month\n",
      "Lynn County: prophet\n",
      "MCBRIDE ORTHOPEDIC HOSPITAL: prophet\n"
     ]
    },
    {
     "name": "stderr",
     "output_type": "stream",
     "text": [
      "16:55:36 - cmdstanpy - INFO - Chain [1] start processing\n",
      "16:55:37 - cmdstanpy - INFO - Chain [1] done processing\n",
      "16:55:37 - cmdstanpy - INFO - Chain [1] start processing\n",
      "16:55:37 - cmdstanpy - INFO - Chain [1] done processing\n"
     ]
    },
    {
     "name": "stdout",
     "output_type": "stream",
     "text": [
      "Madelia Community: prophet\n",
      "Madelia Community_1: prophet\n"
     ]
    },
    {
     "name": "stderr",
     "output_type": "stream",
     "text": [
      "16:55:37 - cmdstanpy - INFO - Chain [1] start processing\n",
      "16:55:37 - cmdstanpy - INFO - Chain [1] done processing\n",
      "16:55:37 - cmdstanpy - INFO - Chain [1] start processing\n"
     ]
    },
    {
     "name": "stdout",
     "output_type": "stream",
     "text": [
      "Magee Rehab: fixed\n",
      "Martin County Hospital District: prophet\n"
     ]
    },
    {
     "name": "stderr",
     "output_type": "stream",
     "text": [
      "16:55:37 - cmdstanpy - INFO - Chain [1] done processing\n",
      "16:55:37 - cmdstanpy - INFO - Chain [1] start processing\n",
      "16:55:38 - cmdstanpy - INFO - Chain [1] done processing\n"
     ]
    },
    {
     "name": "stdout",
     "output_type": "stream",
     "text": [
      "Medina Memorial Hospital: fixed\n",
      "Memoria Hospital Seminole: fixed\n",
      "Mercy Joplin: fixed\n",
      "Michigan Orthopedic Center: fixed\n",
      "Mid Coast -Brunswick: fixed\n",
      "Mid Coast Bellville: three_month\n",
      "Mid Coast Llano: prophet\n",
      "Millinocket: prophet\n"
     ]
    },
    {
     "name": "stderr",
     "output_type": "stream",
     "text": [
      "16:55:38 - cmdstanpy - INFO - Chain [1] start processing\n",
      "16:55:38 - cmdstanpy - INFO - Chain [1] done processing\n",
      "16:55:38 - cmdstanpy - INFO - Chain [1] start processing\n",
      "16:55:38 - cmdstanpy - INFO - Chain [1] done processing\n"
     ]
    },
    {
     "name": "stdout",
     "output_type": "stream",
     "text": [
      "Mitchell County Hospital: fixed\n",
      "Mitias Orthopaedics: fixed\n",
      "Moab Regional: fixed\n",
      "Modoc Medical Center: prophet\n",
      "Monroe (AL): prophet\n"
     ]
    },
    {
     "name": "stderr",
     "output_type": "stream",
     "text": [
      "16:55:38 - cmdstanpy - INFO - Chain [1] start processing\n",
      "16:55:38 - cmdstanpy - INFO - Chain [1] done processing\n",
      "16:55:39 - cmdstanpy - INFO - Chain [1] start processing\n",
      "16:55:39 - cmdstanpy - INFO - Chain [1] done processing\n"
     ]
    },
    {
     "name": "stdout",
     "output_type": "stream",
     "text": [
      "Morris County: fixed\n",
      "Mount Sanford Tribal Consortium: fixed\n",
      "Mountainvew Medical Center: fixed\n",
      "Mt. Desert Island: fixed\n",
      "Muenster Memorial Hospital: prophet\n",
      "Nevada Regional: fixed\n",
      "Niobrara Valley: prophet\n"
     ]
    },
    {
     "name": "stderr",
     "output_type": "stream",
     "text": [
      "16:55:39 - cmdstanpy - INFO - Chain [1] start processing\n",
      "16:55:39 - cmdstanpy - INFO - Chain [1] done processing\n",
      "16:55:39 - cmdstanpy - INFO - Chain [1] start processing\n",
      "16:55:39 - cmdstanpy - INFO - Chain [1] done processing\n"
     ]
    },
    {
     "name": "stdout",
     "output_type": "stream",
     "text": [
      "Noncona General: prophet\n",
      "North Runnels: prophet\n"
     ]
    },
    {
     "name": "stderr",
     "output_type": "stream",
     "text": [
      "16:55:39 - cmdstanpy - INFO - Chain [1] start processing\n",
      "16:55:39 - cmdstanpy - INFO - Chain [1] done processing\n",
      "16:55:39 - cmdstanpy - INFO - Chain [1] start processing\n"
     ]
    },
    {
     "name": "stdout",
     "output_type": "stream",
     "text": [
      "Northern Rockies: prophet\n"
     ]
    },
    {
     "name": "stderr",
     "output_type": "stream",
     "text": [
      "16:55:40 - cmdstanpy - INFO - Chain [1] done processing\n",
      "16:55:40 - cmdstanpy - INFO - Chain [1] start processing\n",
      "16:55:40 - cmdstanpy - INFO - Chain [1] done processing\n"
     ]
    },
    {
     "name": "stdout",
     "output_type": "stream",
     "text": [
      "Ocean Beach Hospital and Medical Clinics: prophet\n",
      "Ochiltree: prophet\n"
     ]
    },
    {
     "name": "stderr",
     "output_type": "stream",
     "text": [
      "16:55:40 - cmdstanpy - INFO - Chain [1] start processing\n",
      "16:55:40 - cmdstanpy - INFO - Chain [1] done processing\n",
      "16:55:41 - cmdstanpy - INFO - Chain [1] start processing\n"
     ]
    },
    {
     "name": "stdout",
     "output_type": "stream",
     "text": [
      "Ohio Valley Surgical Hospital: prophet\n"
     ]
    },
    {
     "name": "stderr",
     "output_type": "stream",
     "text": [
      "16:55:41 - cmdstanpy - INFO - Chain [1] done processing\n",
      "16:55:41 - cmdstanpy - INFO - Chain [1] start processing\n"
     ]
    },
    {
     "name": "stdout",
     "output_type": "stream",
     "text": [
      "Omega Hospital: three_month\n",
      "Optim Healthcare: fixed\n",
      "PONDERA MEDICAL CENTER: prophet\n"
     ]
    },
    {
     "name": "stderr",
     "output_type": "stream",
     "text": [
      "16:55:41 - cmdstanpy - INFO - Chain [1] done processing\n",
      "16:55:41 - cmdstanpy - INFO - Chain [1] start processing\n"
     ]
    },
    {
     "name": "stdout",
     "output_type": "stream",
     "text": [
      "PREMIER SURGICAL INSTITUTE: fixed\n",
      "PSN Services: fixed\n",
      "Palacios Community Medical Center: prophet\n"
     ]
    },
    {
     "name": "stderr",
     "output_type": "stream",
     "text": [
      "16:55:42 - cmdstanpy - INFO - Chain [1] done processing\n",
      "16:55:42 - cmdstanpy - INFO - Chain [1] start processing\n",
      "16:55:42 - cmdstanpy - INFO - Chain [1] done processing\n"
     ]
    },
    {
     "name": "stdout",
     "output_type": "stream",
     "text": [
      "Parkview: fixed\n",
      "Paul's Valley: fixed\n",
      "Pecos County Memorial Hospital: prophet\n",
      "Perkins County: prophet\n"
     ]
    },
    {
     "name": "stderr",
     "output_type": "stream",
     "text": [
      "16:55:42 - cmdstanpy - INFO - Chain [1] start processing\n",
      "16:55:42 - cmdstanpy - INFO - Chain [1] done processing\n",
      "16:55:42 - cmdstanpy - INFO - Chain [1] start processing\n"
     ]
    },
    {
     "name": "stdout",
     "output_type": "stream",
     "text": [
      "Petersburg Medical Center: prophet\n"
     ]
    },
    {
     "name": "stderr",
     "output_type": "stream",
     "text": [
      "16:55:52 - cmdstanpy - INFO - Chain [1] done processing\n",
      "16:55:52 - cmdstanpy - INFO - Chain [1] start processing\n"
     ]
    },
    {
     "name": "stdout",
     "output_type": "stream",
     "text": [
      "Physicians: fixed\n",
      "Pineville Community: prophet\n"
     ]
    },
    {
     "name": "stderr",
     "output_type": "stream",
     "text": [
      "16:55:52 - cmdstanpy - INFO - Chain [1] done processing\n",
      "16:55:52 - cmdstanpy - INFO - Chain [1] start processing\n"
     ]
    },
    {
     "name": "stdout",
     "output_type": "stream",
     "text": [
      "Pioneer Medical Center: fixed\n",
      "Pomerene: fixed\n",
      "Pomerene Hospital: three_month\n",
      "Pondera Clinic: prophet\n"
     ]
    },
    {
     "name": "stderr",
     "output_type": "stream",
     "text": [
      "16:55:52 - cmdstanpy - INFO - Chain [1] done processing\n",
      "16:55:53 - cmdstanpy - INFO - Chain [1] start processing\n"
     ]
    },
    {
     "name": "stdout",
     "output_type": "stream",
     "text": [
      "Pratt Medicare & Commercial: prophet\n"
     ]
    },
    {
     "name": "stderr",
     "output_type": "stream",
     "text": [
      "16:55:53 - cmdstanpy - INFO - Chain [1] done processing\n",
      "16:55:53 - cmdstanpy - INFO - Chain [1] start processing\n",
      "16:55:53 - cmdstanpy - INFO - Chain [1] done processing\n"
     ]
    },
    {
     "name": "stdout",
     "output_type": "stream",
     "text": [
      "Promise Healthcare (Facility): fixed\n",
      "Prosser Memorial: prophet\n"
     ]
    },
    {
     "name": "stderr",
     "output_type": "stream",
     "text": [
      "16:55:53 - cmdstanpy - INFO - Chain [1] start processing\n"
     ]
    },
    {
     "name": "stdout",
     "output_type": "stream",
     "text": [
      "Prosser Memorial_1: prophet\n"
     ]
    },
    {
     "name": "stderr",
     "output_type": "stream",
     "text": [
      "16:55:53 - cmdstanpy - INFO - Chain [1] done processing\n",
      "16:55:54 - cmdstanpy - INFO - Chain [1] start processing\n"
     ]
    },
    {
     "name": "stdout",
     "output_type": "stream",
     "text": [
      "Providence Medical Group: fixed\n",
      "Pulaski Memorial: three_month\n",
      "REAGAN MEMORIAL HOSPITAL: prophet\n"
     ]
    },
    {
     "name": "stderr",
     "output_type": "stream",
     "text": [
      "16:55:54 - cmdstanpy - INFO - Chain [1] done processing\n",
      "16:55:54 - cmdstanpy - INFO - Chain [1] start processing\n",
      "16:55:54 - cmdstanpy - INFO - Chain [1] done processing\n"
     ]
    },
    {
     "name": "stdout",
     "output_type": "stream",
     "text": [
      "RHS of Howard: prophet\n"
     ]
    },
    {
     "name": "stderr",
     "output_type": "stream",
     "text": [
      "16:55:55 - cmdstanpy - INFO - Chain [1] start processing\n"
     ]
    },
    {
     "name": "stdout",
     "output_type": "stream",
     "text": [
      "Resilient Healthcare: fixed\n",
      "Richland Clinic: prophet\n"
     ]
    },
    {
     "name": "stderr",
     "output_type": "stream",
     "text": [
      "16:55:55 - cmdstanpy - INFO - Chain [1] done processing\n",
      "16:55:55 - cmdstanpy - INFO - Chain [1] start processing\n",
      "16:55:55 - cmdstanpy - INFO - Chain [1] done processing\n"
     ]
    },
    {
     "name": "stdout",
     "output_type": "stream",
     "text": [
      "Roger Mills: fixed\n",
      "Rolling Plains (PE): prophet\n"
     ]
    },
    {
     "name": "stderr",
     "output_type": "stream",
     "text": [
      "16:55:55 - cmdstanpy - INFO - Chain [1] start processing\n"
     ]
    },
    {
     "name": "stdout",
     "output_type": "stream",
     "text": [
      "Rolling Plains Hospital: prophet\n"
     ]
    },
    {
     "name": "stderr",
     "output_type": "stream",
     "text": [
      "16:55:55 - cmdstanpy - INFO - Chain [1] done processing\n",
      "16:55:55 - cmdstanpy - INFO - Chain [1] start processing\n"
     ]
    },
    {
     "name": "stdout",
     "output_type": "stream",
     "text": [
      "Ruby Valley: fixed\n",
      "SHARKEY-ISSAQUENA COMMUNITY HOSPITAL: prophet\n"
     ]
    },
    {
     "name": "stderr",
     "output_type": "stream",
     "text": [
      "16:55:56 - cmdstanpy - INFO - Chain [1] done processing\n",
      "16:55:56 - cmdstanpy - INFO - Chain [1] start processing\n",
      "16:55:56 - cmdstanpy - INFO - Chain [1] done processing\n"
     ]
    },
    {
     "name": "stdout",
     "output_type": "stream",
     "text": [
      "SMP St. Aloisuis: prophet\n"
     ]
    },
    {
     "name": "stderr",
     "output_type": "stream",
     "text": [
      "16:55:56 - cmdstanpy - INFO - Chain [1] start processing\n",
      "16:55:56 - cmdstanpy - INFO - Chain [1] done processing\n"
     ]
    },
    {
     "name": "stdout",
     "output_type": "stream",
     "text": [
      "Salem: fixed\n",
      "Salt River Pima-Maricopa Indian Community: prophet\n"
     ]
    },
    {
     "name": "stderr",
     "output_type": "stream",
     "text": [
      "16:55:56 - cmdstanpy - INFO - Chain [1] start processing\n",
      "16:55:56 - cmdstanpy - INFO - Chain [1] done processing\n"
     ]
    },
    {
     "name": "stdout",
     "output_type": "stream",
     "text": [
      "San Bernardino: fixed\n",
      "Santa Cruz Valley Regional: fixed\n",
      "Saunders Medical: fixed\n",
      "Savoy Medical: three_month\n",
      "Seminole Hospital: prophet\n"
     ]
    },
    {
     "name": "stderr",
     "output_type": "stream",
     "text": [
      "16:55:56 - cmdstanpy - INFO - Chain [1] start processing\n",
      "16:55:57 - cmdstanpy - INFO - Chain [1] done processing\n"
     ]
    },
    {
     "name": "stdout",
     "output_type": "stream",
     "text": [
      "Seneca Healthcare District: prophet\n"
     ]
    },
    {
     "name": "stderr",
     "output_type": "stream",
     "text": [
      "16:55:57 - cmdstanpy - INFO - Chain [1] start processing\n"
     ]
    },
    {
     "name": "stdout",
     "output_type": "stream",
     "text": [
      "Share Medical: prophet\n"
     ]
    },
    {
     "name": "stderr",
     "output_type": "stream",
     "text": [
      "16:55:57 - cmdstanpy - INFO - Chain [1] done processing\n",
      "16:55:57 - cmdstanpy - INFO - Chain [1] start processing\n",
      "16:55:57 - cmdstanpy - INFO - Chain [1] done processing\n"
     ]
    },
    {
     "name": "stdout",
     "output_type": "stream",
     "text": [
      "Sheridan Community: prophet\n"
     ]
    },
    {
     "name": "stderr",
     "output_type": "stream",
     "text": [
      "16:55:57 - cmdstanpy - INFO - Chain [1] start processing\n"
     ]
    },
    {
     "name": "stdout",
     "output_type": "stream",
     "text": [
      "Sistersville General Clinic: fixed\n",
      "Sistersville General Hospital: fixed\n",
      "Snoqualmie: prophet\n"
     ]
    },
    {
     "name": "stderr",
     "output_type": "stream",
     "text": [
      "16:55:57 - cmdstanpy - INFO - Chain [1] done processing\n",
      "16:55:58 - cmdstanpy - INFO - Chain [1] start processing\n"
     ]
    },
    {
     "name": "stdout",
     "output_type": "stream",
     "text": [
      "South Cameron Memorial: fixed\n",
      "Southern Coos Hospital: prophet\n"
     ]
    },
    {
     "name": "stderr",
     "output_type": "stream",
     "text": [
      "16:55:58 - cmdstanpy - INFO - Chain [1] done processing\n",
      "16:55:58 - cmdstanpy - INFO - Chain [1] start processing\n",
      "16:55:58 - cmdstanpy - INFO - Chain [1] done processing\n"
     ]
    },
    {
     "name": "stdout",
     "output_type": "stream",
     "text": [
      "Southern Humboldt Community Healthcare District: prophet\n",
      "Southern Ohio: fixed\n",
      "Southern Plains: fixed\n",
      "Southern Plains ASC: fixed\n",
      "Southlight: fixed\n",
      "St. Helena Parish Hospital: prophet\n"
     ]
    },
    {
     "name": "stderr",
     "output_type": "stream",
     "text": [
      "16:55:58 - cmdstanpy - INFO - Chain [1] start processing\n",
      "16:55:58 - cmdstanpy - INFO - Chain [1] done processing\n",
      "16:55:58 - cmdstanpy - INFO - Chain [1] start processing\n"
     ]
    },
    {
     "name": "stdout",
     "output_type": "stream",
     "text": [
      "St. James Parish: fixed\n",
      "Summer Meadows: fixed\n",
      "Surgeons Choice Medical Center: prophet\n"
     ]
    },
    {
     "name": "stderr",
     "output_type": "stream",
     "text": [
      "16:55:59 - cmdstanpy - INFO - Chain [1] done processing\n",
      "16:55:59 - cmdstanpy - INFO - Chain [1] start processing\n"
     ]
    },
    {
     "name": "stdout",
     "output_type": "stream",
     "text": [
      "Sweetwater Hospital: three_month\n",
      "TRIGG: prophet\n"
     ]
    },
    {
     "name": "stderr",
     "output_type": "stream",
     "text": [
      "16:55:59 - cmdstanpy - INFO - Chain [1] done processing\n",
      "16:55:59 - cmdstanpy - INFO - Chain [1] start processing\n"
     ]
    },
    {
     "name": "stdout",
     "output_type": "stream",
     "text": [
      "TRIGG CLINIC: prophet\n"
     ]
    },
    {
     "name": "stderr",
     "output_type": "stream",
     "text": [
      "16:55:59 - cmdstanpy - INFO - Chain [1] done processing\n",
      "16:56:00 - cmdstanpy - INFO - Chain [1] start processing\n",
      "16:56:00 - cmdstanpy - INFO - Chain [1] done processing\n"
     ]
    },
    {
     "name": "stdout",
     "output_type": "stream",
     "text": [
      "Taylorville: fixed\n",
      "Taylorville Memorial: fixed\n",
      "Texas Institute: prophet\n"
     ]
    },
    {
     "name": "stderr",
     "output_type": "stream",
     "text": [
      "16:56:00 - cmdstanpy - INFO - Chain [1] start processing\n"
     ]
    },
    {
     "name": "stdout",
     "output_type": "stream",
     "text": [
      "The Queens Health System: fixed\n",
      "Throckmorton County: prophet\n"
     ]
    },
    {
     "name": "stderr",
     "output_type": "stream",
     "text": [
      "16:56:00 - cmdstanpy - INFO - Chain [1] done processing\n",
      "16:56:00 - cmdstanpy - INFO - Chain [1] start processing\n",
      "16:56:00 - cmdstanpy - INFO - Chain [1] done processing\n"
     ]
    },
    {
     "name": "stdout",
     "output_type": "stream",
     "text": [
      "Titus Regional (Clinic): fixed\n",
      "Titus Regional (EMS): fixed\n",
      "Titus Regional (Hospital): fixed\n",
      "Trinity (LA): prophet\n"
     ]
    },
    {
     "name": "stderr",
     "output_type": "stream",
     "text": [
      "16:56:00 - cmdstanpy - INFO - Chain [1] start processing\n",
      "16:56:00 - cmdstanpy - INFO - Chain [1] done processing\n"
     ]
    },
    {
     "name": "stdout",
     "output_type": "stream",
     "text": [
      "Trinity Medical: prophet\n",
      "Trinity Memorial (El Campo): fixed\n",
      "Trinity Twin - Two Cities: prophet\n"
     ]
    },
    {
     "name": "stderr",
     "output_type": "stream",
     "text": [
      "16:56:01 - cmdstanpy - INFO - Chain [1] start processing\n",
      "16:56:01 - cmdstanpy - INFO - Chain [1] done processing\n",
      "16:56:01 - cmdstanpy - INFO - Chain [1] start processing\n"
     ]
    },
    {
     "name": "stdout",
     "output_type": "stream",
     "text": [
      "Trinity Twin - Two Cities (Clinic): prophet\n"
     ]
    },
    {
     "name": "stderr",
     "output_type": "stream",
     "text": [
      "16:56:01 - cmdstanpy - INFO - Chain [1] done processing\n",
      "16:56:01 - cmdstanpy - INFO - Chain [1] start processing\n",
      "16:56:01 - cmdstanpy - INFO - Chain [1] done processing\n"
     ]
    },
    {
     "name": "stdout",
     "output_type": "stream",
     "text": [
      "Tyler County: prophet\n",
      "Tyrone Hospital: fixed\n",
      "ULP: prophet\n"
     ]
    },
    {
     "name": "stderr",
     "output_type": "stream",
     "text": [
      "16:56:01 - cmdstanpy - INFO - Chain [1] start processing\n",
      "16:56:02 - cmdstanpy - INFO - Chain [1] done processing\n",
      "16:56:02 - cmdstanpy - INFO - Chain [1] start processing\n",
      "16:56:02 - cmdstanpy - INFO - Chain [1] done processing\n"
     ]
    },
    {
     "name": "stdout",
     "output_type": "stream",
     "text": [
      "United Surgical Partners International: fixed\n",
      "Universal Behavioral Health: prophet\n",
      "University Louisville Physicians - AMG: fixed\n",
      "University Louisville Physicians - CMG: fixed\n",
      "University of Vermont - Elizabethtown: fixed\n",
      "WABASH GENERAL HOSPITAL: prophet\n"
     ]
    },
    {
     "name": "stderr",
     "output_type": "stream",
     "text": [
      "16:56:02 - cmdstanpy - INFO - Chain [1] start processing\n",
      "16:56:02 - cmdstanpy - INFO - Chain [1] done processing\n",
      "16:56:02 - cmdstanpy - INFO - Chain [1] start processing\n"
     ]
    },
    {
     "name": "stdout",
     "output_type": "stream",
     "text": [
      "WASHINGTON COUNTY HOSPITAL & NURSING HOME: prophet\n"
     ]
    },
    {
     "name": "stderr",
     "output_type": "stream",
     "text": [
      "16:56:02 - cmdstanpy - INFO - Chain [1] done processing\n",
      "16:56:03 - cmdstanpy - INFO - Chain [1] start processing\n"
     ]
    },
    {
     "name": "stdout",
     "output_type": "stream",
     "text": [
      "WEST FELICIANA PARISH HOSPITAL: prophet\n"
     ]
    },
    {
     "name": "stderr",
     "output_type": "stream",
     "text": [
      "16:56:03 - cmdstanpy - INFO - Chain [1] done processing\n",
      "16:56:03 - cmdstanpy - INFO - Chain [1] start processing\n"
     ]
    },
    {
     "name": "stdout",
     "output_type": "stream",
     "text": [
      "Wahiawa General: prophet\n"
     ]
    },
    {
     "name": "stderr",
     "output_type": "stream",
     "text": [
      "16:56:03 - cmdstanpy - INFO - Chain [1] done processing\n",
      "16:56:03 - cmdstanpy - INFO - Chain [1] start processing\n",
      "16:56:03 - cmdstanpy - INFO - Chain [1] done processing\n"
     ]
    },
    {
     "name": "stdout",
     "output_type": "stream",
     "text": [
      "Ward Memorial Hospital: prophet\n",
      "Washoe Tribal Health: prophet\n"
     ]
    },
    {
     "name": "stderr",
     "output_type": "stream",
     "text": [
      "16:56:04 - cmdstanpy - INFO - Chain [1] start processing\n",
      "16:56:04 - cmdstanpy - INFO - Chain [1] done processing\n",
      "16:56:04 - cmdstanpy - INFO - Chain [1] start processing\n"
     ]
    },
    {
     "name": "stdout",
     "output_type": "stream",
     "text": [
      "Weatherford Regional Hospital: prophet\n"
     ]
    },
    {
     "name": "stderr",
     "output_type": "stream",
     "text": [
      "16:56:04 - cmdstanpy - INFO - Chain [1] done processing\n",
      "16:56:04 - cmdstanpy - INFO - Chain [1] start processing\n"
     ]
    },
    {
     "name": "stdout",
     "output_type": "stream",
     "text": [
      "West Holt: fixed\n",
      "West River: fixed\n",
      "White County: fixed\n",
      "Whitfield: prophet\n"
     ]
    },
    {
     "name": "stderr",
     "output_type": "stream",
     "text": [
      "16:56:04 - cmdstanpy - INFO - Chain [1] done processing\n",
      "16:56:04 - cmdstanpy - INFO - Chain [1] start processing\n",
      "16:56:04 - cmdstanpy - INFO - Chain [1] done processing\n"
     ]
    },
    {
     "name": "stdout",
     "output_type": "stream",
     "text": [
      "Wickenburg: fixed\n",
      "Wyckoff Heights: prophet\n",
      "Yakutat Community Health Center: fixed\n"
     ]
    },
    {
     "data": {
      "text/html": [
       "<div>\n",
       "<style scoped>\n",
       "    .dataframe tbody tr th:only-of-type {\n",
       "        vertical-align: middle;\n",
       "    }\n",
       "\n",
       "    .dataframe tbody tr th {\n",
       "        vertical-align: top;\n",
       "    }\n",
       "\n",
       "    .dataframe thead th {\n",
       "        text-align: right;\n",
       "    }\n",
       "</style>\n",
       "<table border=\"1\" class=\"dataframe\">\n",
       "  <thead>\n",
       "    <tr style=\"text-align: right;\">\n",
       "      <th></th>\n",
       "      <th>2021-01</th>\n",
       "      <th>2021-02</th>\n",
       "      <th>2021-03</th>\n",
       "      <th>2021-04</th>\n",
       "      <th>2021-05</th>\n",
       "      <th>2021-06</th>\n",
       "      <th>2021-07</th>\n",
       "      <th>2021-08</th>\n",
       "      <th>2021-09</th>\n",
       "      <th>2021-10</th>\n",
       "      <th>...</th>\n",
       "      <th>2024-03</th>\n",
       "      <th>2024-04</th>\n",
       "      <th>2024-05</th>\n",
       "      <th>2024-06</th>\n",
       "      <th>2024-07</th>\n",
       "      <th>2024-08</th>\n",
       "      <th>2024-09</th>\n",
       "      <th>2024-10</th>\n",
       "      <th>2024-11</th>\n",
       "      <th>2024-12</th>\n",
       "    </tr>\n",
       "  </thead>\n",
       "  <tbody>\n",
       "    <tr>\n",
       "      <th>Abraham Lincoln</th>\n",
       "      <td>16865.0</td>\n",
       "      <td>18965.0</td>\n",
       "      <td>22201.0</td>\n",
       "      <td>27864.0</td>\n",
       "      <td>20430.0</td>\n",
       "      <td>25328.0</td>\n",
       "      <td>20897.0</td>\n",
       "      <td>17417.0</td>\n",
       "      <td>53978.0</td>\n",
       "      <td>31801.0</td>\n",
       "      <td>...</td>\n",
       "      <td>7500.0</td>\n",
       "      <td>7500.0</td>\n",
       "      <td>7500.0</td>\n",
       "      <td>7500.0</td>\n",
       "      <td>7500.0</td>\n",
       "      <td>7500.0</td>\n",
       "      <td>7500.0</td>\n",
       "      <td>7500.0</td>\n",
       "      <td>7500.0</td>\n",
       "      <td>7500.0</td>\n",
       "    </tr>\n",
       "    <tr>\n",
       "      <th>Acadia-St.Landry Hospital</th>\n",
       "      <td>47335.0</td>\n",
       "      <td>47151.0</td>\n",
       "      <td>71127.0</td>\n",
       "      <td>55330.0</td>\n",
       "      <td>53569.0</td>\n",
       "      <td>90612.0</td>\n",
       "      <td>50765.0</td>\n",
       "      <td>53116.0</td>\n",
       "      <td>48687.0</td>\n",
       "      <td>32288.0</td>\n",
       "      <td>...</td>\n",
       "      <td>56049.557619</td>\n",
       "      <td>33564.541479</td>\n",
       "      <td>13071.932108</td>\n",
       "      <td>70506.064874</td>\n",
       "      <td>31413.138472</td>\n",
       "      <td>34146.006918</td>\n",
       "      <td>49494.909851</td>\n",
       "      <td>12069.627941</td>\n",
       "      <td>31519.652525</td>\n",
       "      <td>36652.052126</td>\n",
       "    </tr>\n",
       "    <tr>\n",
       "      <th>Adirondack Medical Center</th>\n",
       "      <td>NaN</td>\n",
       "      <td>NaN</td>\n",
       "      <td>NaN</td>\n",
       "      <td>NaN</td>\n",
       "      <td>NaN</td>\n",
       "      <td>NaN</td>\n",
       "      <td>NaN</td>\n",
       "      <td>NaN</td>\n",
       "      <td>NaN</td>\n",
       "      <td>NaN</td>\n",
       "      <td>...</td>\n",
       "      <td>NaN</td>\n",
       "      <td>NaN</td>\n",
       "      <td>NaN</td>\n",
       "      <td>NaN</td>\n",
       "      <td>NaN</td>\n",
       "      <td>NaN</td>\n",
       "      <td>NaN</td>\n",
       "      <td>NaN</td>\n",
       "      <td>NaN</td>\n",
       "      <td>NaN</td>\n",
       "    </tr>\n",
       "    <tr>\n",
       "      <th>Alaska Native Tribal Health</th>\n",
       "      <td>NaN</td>\n",
       "      <td>NaN</td>\n",
       "      <td>NaN</td>\n",
       "      <td>NaN</td>\n",
       "      <td>NaN</td>\n",
       "      <td>NaN</td>\n",
       "      <td>NaN</td>\n",
       "      <td>NaN</td>\n",
       "      <td>NaN</td>\n",
       "      <td>NaN</td>\n",
       "      <td>...</td>\n",
       "      <td>5745.486232</td>\n",
       "      <td>6299.272714</td>\n",
       "      <td>6835.195116</td>\n",
       "      <td>7388.981599</td>\n",
       "      <td>7924.904001</td>\n",
       "      <td>8478.690483</td>\n",
       "      <td>9032.476965</td>\n",
       "      <td>9568.399367</td>\n",
       "      <td>10122.185849</td>\n",
       "      <td>10658.108252</td>\n",
       "    </tr>\n",
       "    <tr>\n",
       "      <th>Aleutian Pribilof Islands Association</th>\n",
       "      <td>NaN</td>\n",
       "      <td>NaN</td>\n",
       "      <td>NaN</td>\n",
       "      <td>NaN</td>\n",
       "      <td>NaN</td>\n",
       "      <td>NaN</td>\n",
       "      <td>NaN</td>\n",
       "      <td>NaN</td>\n",
       "      <td>NaN</td>\n",
       "      <td>NaN</td>\n",
       "      <td>...</td>\n",
       "      <td>7305.21253</td>\n",
       "      <td>6925.377601</td>\n",
       "      <td>6557.795413</td>\n",
       "      <td>6177.960485</td>\n",
       "      <td>5810.378296</td>\n",
       "      <td>5430.543368</td>\n",
       "      <td>5050.70844</td>\n",
       "      <td>4683.126251</td>\n",
       "      <td>4303.291323</td>\n",
       "      <td>3935.709134</td>\n",
       "    </tr>\n",
       "    <tr>\n",
       "      <th>...</th>\n",
       "      <td>...</td>\n",
       "      <td>...</td>\n",
       "      <td>...</td>\n",
       "      <td>...</td>\n",
       "      <td>...</td>\n",
       "      <td>...</td>\n",
       "      <td>...</td>\n",
       "      <td>...</td>\n",
       "      <td>...</td>\n",
       "      <td>...</td>\n",
       "      <td>...</td>\n",
       "      <td>...</td>\n",
       "      <td>...</td>\n",
       "      <td>...</td>\n",
       "      <td>...</td>\n",
       "      <td>...</td>\n",
       "      <td>...</td>\n",
       "      <td>...</td>\n",
       "      <td>...</td>\n",
       "      <td>...</td>\n",
       "      <td>...</td>\n",
       "    </tr>\n",
       "    <tr>\n",
       "      <th>White County</th>\n",
       "      <td>NaN</td>\n",
       "      <td>NaN</td>\n",
       "      <td>NaN</td>\n",
       "      <td>NaN</td>\n",
       "      <td>NaN</td>\n",
       "      <td>NaN</td>\n",
       "      <td>NaN</td>\n",
       "      <td>NaN</td>\n",
       "      <td>NaN</td>\n",
       "      <td>NaN</td>\n",
       "      <td>...</td>\n",
       "      <td>15000.0</td>\n",
       "      <td>15000.0</td>\n",
       "      <td>15000.0</td>\n",
       "      <td>15000.0</td>\n",
       "      <td>15000.0</td>\n",
       "      <td>15000.0</td>\n",
       "      <td>15000.0</td>\n",
       "      <td>15000.0</td>\n",
       "      <td>15000.0</td>\n",
       "      <td>15000.0</td>\n",
       "    </tr>\n",
       "    <tr>\n",
       "      <th>Whitfield</th>\n",
       "      <td>94627.0</td>\n",
       "      <td>101402.0</td>\n",
       "      <td>118869.0</td>\n",
       "      <td>76170.0</td>\n",
       "      <td>59028.0</td>\n",
       "      <td>81497.0</td>\n",
       "      <td>55435.0</td>\n",
       "      <td>80986.0</td>\n",
       "      <td>85755.0</td>\n",
       "      <td>99483.0</td>\n",
       "      <td>...</td>\n",
       "      <td>123849.278663</td>\n",
       "      <td>84796.54428</td>\n",
       "      <td>56431.134714</td>\n",
       "      <td>107815.499237</td>\n",
       "      <td>64833.768996</td>\n",
       "      <td>94163.686917</td>\n",
       "      <td>97783.935751</td>\n",
       "      <td>106033.561816</td>\n",
       "      <td>90110.313056</td>\n",
       "      <td>73044.890755</td>\n",
       "    </tr>\n",
       "    <tr>\n",
       "      <th>Wickenburg</th>\n",
       "      <td>NaN</td>\n",
       "      <td>NaN</td>\n",
       "      <td>NaN</td>\n",
       "      <td>NaN</td>\n",
       "      <td>NaN</td>\n",
       "      <td>NaN</td>\n",
       "      <td>NaN</td>\n",
       "      <td>6000.0</td>\n",
       "      <td>6000.0</td>\n",
       "      <td>6000.0</td>\n",
       "      <td>...</td>\n",
       "      <td>NaN</td>\n",
       "      <td>NaN</td>\n",
       "      <td>NaN</td>\n",
       "      <td>NaN</td>\n",
       "      <td>NaN</td>\n",
       "      <td>NaN</td>\n",
       "      <td>NaN</td>\n",
       "      <td>NaN</td>\n",
       "      <td>NaN</td>\n",
       "      <td>NaN</td>\n",
       "    </tr>\n",
       "    <tr>\n",
       "      <th>Wyckoff Heights</th>\n",
       "      <td>NaN</td>\n",
       "      <td>NaN</td>\n",
       "      <td>NaN</td>\n",
       "      <td>NaN</td>\n",
       "      <td>NaN</td>\n",
       "      <td>NaN</td>\n",
       "      <td>NaN</td>\n",
       "      <td>NaN</td>\n",
       "      <td>NaN</td>\n",
       "      <td>NaN</td>\n",
       "      <td>...</td>\n",
       "      <td>7339.414414</td>\n",
       "      <td>7045.776552</td>\n",
       "      <td>6761.610878</td>\n",
       "      <td>6467.973015</td>\n",
       "      <td>6183.807342</td>\n",
       "      <td>5890.169479</td>\n",
       "      <td>5596.531616</td>\n",
       "      <td>5312.365943</td>\n",
       "      <td>5018.72808</td>\n",
       "      <td>4734.562407</td>\n",
       "    </tr>\n",
       "    <tr>\n",
       "      <th>Yakutat Community Health Center</th>\n",
       "      <td>NaN</td>\n",
       "      <td>NaN</td>\n",
       "      <td>NaN</td>\n",
       "      <td>NaN</td>\n",
       "      <td>NaN</td>\n",
       "      <td>NaN</td>\n",
       "      <td>NaN</td>\n",
       "      <td>NaN</td>\n",
       "      <td>NaN</td>\n",
       "      <td>NaN</td>\n",
       "      <td>...</td>\n",
       "      <td>NaN</td>\n",
       "      <td>NaN</td>\n",
       "      <td>NaN</td>\n",
       "      <td>NaN</td>\n",
       "      <td>NaN</td>\n",
       "      <td>NaN</td>\n",
       "      <td>NaN</td>\n",
       "      <td>NaN</td>\n",
       "      <td>NaN</td>\n",
       "      <td>NaN</td>\n",
       "    </tr>\n",
       "  </tbody>\n",
       "</table>\n",
       "<p>258 rows × 48 columns</p>\n",
       "</div>"
      ],
      "text/plain": [
       "                                       2021-01   2021-02   2021-03  2021-04  \\\n",
       "Abraham Lincoln                        16865.0   18965.0   22201.0  27864.0   \n",
       "Acadia-St.Landry Hospital              47335.0   47151.0   71127.0  55330.0   \n",
       "Adirondack Medical Center                  NaN       NaN       NaN      NaN   \n",
       "Alaska Native Tribal Health                NaN       NaN       NaN      NaN   \n",
       "Aleutian Pribilof Islands Association      NaN       NaN       NaN      NaN   \n",
       "...                                        ...       ...       ...      ...   \n",
       "White County                               NaN       NaN       NaN      NaN   \n",
       "Whitfield                              94627.0  101402.0  118869.0  76170.0   \n",
       "Wickenburg                                 NaN       NaN       NaN      NaN   \n",
       "Wyckoff Heights                            NaN       NaN       NaN      NaN   \n",
       "Yakutat Community Health Center            NaN       NaN       NaN      NaN   \n",
       "\n",
       "                                       2021-05  2021-06  2021-07  2021-08  \\\n",
       "Abraham Lincoln                        20430.0  25328.0  20897.0  17417.0   \n",
       "Acadia-St.Landry Hospital              53569.0  90612.0  50765.0  53116.0   \n",
       "Adirondack Medical Center                  NaN      NaN      NaN      NaN   \n",
       "Alaska Native Tribal Health                NaN      NaN      NaN      NaN   \n",
       "Aleutian Pribilof Islands Association      NaN      NaN      NaN      NaN   \n",
       "...                                        ...      ...      ...      ...   \n",
       "White County                               NaN      NaN      NaN      NaN   \n",
       "Whitfield                              59028.0  81497.0  55435.0  80986.0   \n",
       "Wickenburg                                 NaN      NaN      NaN   6000.0   \n",
       "Wyckoff Heights                            NaN      NaN      NaN      NaN   \n",
       "Yakutat Community Health Center            NaN      NaN      NaN      NaN   \n",
       "\n",
       "                                       2021-09  2021-10  ...        2024-03  \\\n",
       "Abraham Lincoln                        53978.0  31801.0  ...         7500.0   \n",
       "Acadia-St.Landry Hospital              48687.0  32288.0  ...   56049.557619   \n",
       "Adirondack Medical Center                  NaN      NaN  ...            NaN   \n",
       "Alaska Native Tribal Health                NaN      NaN  ...    5745.486232   \n",
       "Aleutian Pribilof Islands Association      NaN      NaN  ...     7305.21253   \n",
       "...                                        ...      ...  ...            ...   \n",
       "White County                               NaN      NaN  ...        15000.0   \n",
       "Whitfield                              85755.0  99483.0  ...  123849.278663   \n",
       "Wickenburg                              6000.0   6000.0  ...            NaN   \n",
       "Wyckoff Heights                            NaN      NaN  ...    7339.414414   \n",
       "Yakutat Community Health Center            NaN      NaN  ...            NaN   \n",
       "\n",
       "                                            2024-04       2024-05  \\\n",
       "Abraham Lincoln                              7500.0        7500.0   \n",
       "Acadia-St.Landry Hospital              33564.541479  13071.932108   \n",
       "Adirondack Medical Center                       NaN           NaN   \n",
       "Alaska Native Tribal Health             6299.272714   6835.195116   \n",
       "Aleutian Pribilof Islands Association   6925.377601   6557.795413   \n",
       "...                                             ...           ...   \n",
       "White County                                15000.0       15000.0   \n",
       "Whitfield                               84796.54428  56431.134714   \n",
       "Wickenburg                                      NaN           NaN   \n",
       "Wyckoff Heights                         7045.776552   6761.610878   \n",
       "Yakutat Community Health Center                 NaN           NaN   \n",
       "\n",
       "                                             2024-06       2024-07  \\\n",
       "Abraham Lincoln                               7500.0        7500.0   \n",
       "Acadia-St.Landry Hospital               70506.064874  31413.138472   \n",
       "Adirondack Medical Center                        NaN           NaN   \n",
       "Alaska Native Tribal Health              7388.981599   7924.904001   \n",
       "Aleutian Pribilof Islands Association    6177.960485   5810.378296   \n",
       "...                                              ...           ...   \n",
       "White County                                 15000.0       15000.0   \n",
       "Whitfield                              107815.499237  64833.768996   \n",
       "Wickenburg                                       NaN           NaN   \n",
       "Wyckoff Heights                          6467.973015   6183.807342   \n",
       "Yakutat Community Health Center                  NaN           NaN   \n",
       "\n",
       "                                            2024-08       2024-09  \\\n",
       "Abraham Lincoln                              7500.0        7500.0   \n",
       "Acadia-St.Landry Hospital              34146.006918  49494.909851   \n",
       "Adirondack Medical Center                       NaN           NaN   \n",
       "Alaska Native Tribal Health             8478.690483   9032.476965   \n",
       "Aleutian Pribilof Islands Association   5430.543368    5050.70844   \n",
       "...                                             ...           ...   \n",
       "White County                                15000.0       15000.0   \n",
       "Whitfield                              94163.686917  97783.935751   \n",
       "Wickenburg                                      NaN           NaN   \n",
       "Wyckoff Heights                         5890.169479   5596.531616   \n",
       "Yakutat Community Health Center                 NaN           NaN   \n",
       "\n",
       "                                             2024-10       2024-11  \\\n",
       "Abraham Lincoln                               7500.0        7500.0   \n",
       "Acadia-St.Landry Hospital               12069.627941  31519.652525   \n",
       "Adirondack Medical Center                        NaN           NaN   \n",
       "Alaska Native Tribal Health              9568.399367  10122.185849   \n",
       "Aleutian Pribilof Islands Association    4683.126251   4303.291323   \n",
       "...                                              ...           ...   \n",
       "White County                                 15000.0       15000.0   \n",
       "Whitfield                              106033.561816  90110.313056   \n",
       "Wickenburg                                       NaN           NaN   \n",
       "Wyckoff Heights                          5312.365943    5018.72808   \n",
       "Yakutat Community Health Center                  NaN           NaN   \n",
       "\n",
       "                                            2024-12  \n",
       "Abraham Lincoln                              7500.0  \n",
       "Acadia-St.Landry Hospital              36652.052126  \n",
       "Adirondack Medical Center                       NaN  \n",
       "Alaska Native Tribal Health            10658.108252  \n",
       "Aleutian Pribilof Islands Association   3935.709134  \n",
       "...                                             ...  \n",
       "White County                                15000.0  \n",
       "Whitfield                              73044.890755  \n",
       "Wickenburg                                      NaN  \n",
       "Wyckoff Heights                         4734.562407  \n",
       "Yakutat Community Health Center                 NaN  \n",
       "\n",
       "[258 rows x 48 columns]"
      ]
     },
     "metadata": {},
     "output_type": "display_data"
    }
   ],
   "source": [
    "if EXCEL_FILE_PATH.endswith('.xls') or EXCEL_FILE_PATH.endswith('.xlsx'):\n",
    "    #revenue_data = pd.read_excel(EXCEL_FILE_PATH, index_col=['Site', 'Customer Code'])\n",
    "    revenue_data = pd.read_excel(EXCEL_FILE_PATH, index_col='site')\n",
    "else:\n",
    "    print(\"Error: Input file must be in Excel format.\")\n",
    "\n",
    "# Create dataframe for the output date\n",
    "new_months = list(pd.date_range(revenue_data.columns[-1], periods=NUMBER_OF_MONTHS+1, freq='M').strftime('%Y-%m'))[1:NUMBER_OF_MONTHS+1]\n",
    "revenue_data.columns = [col.strftime('%Y-%m') if isinstance(col, pd.Timestamp) else col for col in revenue_data.columns]\n",
    "column_names = list(revenue_data.columns) + new_months\n",
    "revenue_data.index = rename_duplicates(revenue_data.index)\n",
    "output_data = pd.DataFrame(index=revenue_data.index, columns=column_names)\n",
    "\n",
    "hospital_model = {}\n",
    "\n",
    "#Loop through hospitals\n",
    "for hospital, revenue_series in revenue_data.iterrows():\n",
    "    projection_type = determine_projection_type(revenue_series, MEDIUM_THRESHOLD, LARGE_THRESHOLD)\n",
    "    # append hospitl and projection type to df\n",
    "    hospital_model[hospital] = projection_type\n",
    "    print(f'{hospital}: {projection_type}')\n",
    "    if projection_type == 'fixed':\n",
    "        projection = fixed(revenue_series)\n",
    "    elif projection_type == 'three_month':\n",
    "        projection = three_month(revenue_series)\n",
    "    elif projection_type == 'arima':\n",
    "        try:\n",
    "            projection = arima(revenue_series)\n",
    "        except:\n",
    "            projection = three_month(revenue_series)\n",
    "    elif projection_type == 'prophet':\n",
    "        try:\n",
    "            (projection, prophet_low, prophet_high) = prophet(revenue_series)\n",
    "        except:\n",
    "            projection = three_month(revenue_series)\n",
    "\n",
    "    projection = [rev if rev >= 0 or np.isnan(rev) else 0 for rev in projection] # Sets a lower bound of 0 for any projection\n",
    "    \n",
    "    output_data.loc[hospital] = pd.concat([revenue_series, pd.Series(data=projection, index=new_months)])\n",
    "\n",
    "output_data.dropna(inplace=True, how='all')\n",
    "output_data.to_excel(OUTPUT_FILE_PATH, index_label='site')\n",
    "\n",
    "hospital_model_df = pd.DataFrame(list(hospital_model.items()), columns=['Hospital', 'Model'])\n",
    "input_file_name = EXCEL_FILE_PATH.split('/')[-1]\n",
    "hospital_model_output_path =  'TruCast_Models_Used ' + input_file_name\n",
    "hospital_model_df.to_excel(hospital_model_output_path, index_label='site')\n",
    "\n",
    "display(output_data)"
   ]
  },
  {
   "cell_type": "markdown",
   "metadata": {},
   "source": [
    "# Plot the Data"
   ]
  },
  {
   "cell_type": "code",
   "execution_count": 6,
   "metadata": {},
   "outputs": [
    {
     "data": {
      "image/png": "[encoded data removed]",
      "text/plain": [
       "<Figure size 1000x600 with 1 Axes>"
      ]
     },
     "metadata": {},
     "output_type": "display_data"
    }
   ],
   "source": [
    "plt.figure(figsize=(10, 6))\n",
    "\n",
    "# Adjust the data by dividing by 1 million to convert to millions\n",
    "past_revenue = output_data.sum().values[0:-NUMBER_OF_MONTHS] / 1e6\n",
    "forecasted_revenue = output_data.sum().values[-NUMBER_OF_MONTHS:] / 1e6\n",
    "\n",
    "# Plotting the past revenue\n",
    "plt.plot(output_data.columns[0:-NUMBER_OF_MONTHS], past_revenue, color='blue', marker='o', linestyle='-', label='Past Revenue')\n",
    "# Plotting the forecasted revenue\n",
    "plt.plot(output_data.columns[-NUMBER_OF_MONTHS:], forecasted_revenue, color='red', marker='o', linestyle='--', label='Forecasted Revenue')\n",
    "\n",
    "plt.title('Previous Data and Projections')\n",
    "plt.xlabel('Month')\n",
    "plt.ylabel('Revenue (Millions)')\n",
    "plt.xticks(output_data.columns[0::3], rotation=90)  # Adjust x-axis ticks\n",
    "\n",
    "# Adding the legend to the plot\n",
    "plt.legend()\n",
    "\n",
    "# Show the plot\n",
    "plt.show()"
   ]
  },
  {
   "cell_type": "code",
   "execution_count": null,
   "metadata": {},
   "outputs": [],
   "source": []
  }
 ],
 "metadata": {
  "kernelspec": {
   "display_name": "Python 3 (ipykernel)",
   "language": "python",
   "name": "python3"
  },
  "language_info": {
   "codemirror_mode": {
    "name": "ipython",
    "version": 3
   },
   "file_extension": ".py",
   "mimetype": "text/x-python",
   "name": "python",
   "nbconvert_exporter": "python",
   "pygments_lexer": "ipython3",
   "version": "3.10.2"
  }
 },
 "nbformat": 4,
 "nbformat_minor": 2
}
