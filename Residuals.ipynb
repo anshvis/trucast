{
 "cells": [
  {
   "cell_type": "markdown",
   "metadata": {},
   "source": [
    "# Install Libraries"
   ]
  },
  {
   "cell_type": "code",
   "execution_count": 62,
   "metadata": {},
   "outputs": [
    {
     "name": "stderr",
     "output_type": "stream",
     "text": [
      "Python(20545) MallocStackLogging: can't turn off malloc stack logging because it was not enabled.\n"
     ]
    },
    {
     "name": "stdout",
     "output_type": "stream",
     "text": [
      "Defaulting to user installation because normal site-packages is not writeable\n",
      "Requirement already satisfied: numpy in /Users/michaelmallamaci/Library/Python/3.11/lib/python/site-packages (1.26.4)\n",
      "Note: you may need to restart the kernel to use updated packages.\n"
     ]
    },
    {
     "name": "stderr",
     "output_type": "stream",
     "text": [
      "Python(20548) MallocStackLogging: can't turn off malloc stack logging because it was not enabled.\n"
     ]
    },
    {
     "name": "stdout",
     "output_type": "stream",
     "text": [
      "Defaulting to user installation because normal site-packages is not writeable\n",
      "Requirement already satisfied: pandas in /Users/michaelmallamaci/Library/Python/3.11/lib/python/site-packages (2.2.1)\n",
      "Requirement already satisfied: numpy<2,>=1.23.2 in /Users/michaelmallamaci/Library/Python/3.11/lib/python/site-packages (from pandas) (1.26.4)\n",
      "Requirement already satisfied: python-dateutil>=2.8.2 in /Users/michaelmallamaci/Library/Python/3.11/lib/python/site-packages (from pandas) (2.9.0.post0)\n",
      "Requirement already satisfied: pytz>=2020.1 in /Users/michaelmallamaci/Library/Python/3.11/lib/python/site-packages (from pandas) (2024.1)\n",
      "Requirement already satisfied: tzdata>=2022.7 in /Users/michaelmallamaci/Library/Python/3.11/lib/python/site-packages (from pandas) (2024.1)\n",
      "Requirement already satisfied: six>=1.5 in /Users/michaelmallamaci/Library/Python/3.11/lib/python/site-packages (from python-dateutil>=2.8.2->pandas) (1.16.0)\n",
      "Note: you may need to restart the kernel to use updated packages.\n"
     ]
    },
    {
     "name": "stderr",
     "output_type": "stream",
     "text": [
      "Python(20554) MallocStackLogging: can't turn off malloc stack logging because it was not enabled.\n"
     ]
    },
    {
     "name": "stdout",
     "output_type": "stream",
     "text": [
      "Defaulting to user installation because normal site-packages is not writeable\n",
      "Requirement already satisfied: openpyxl in /Users/michaelmallamaci/Library/Python/3.11/lib/python/site-packages (3.1.2)\n",
      "Requirement already satisfied: et-xmlfile in /Users/michaelmallamaci/Library/Python/3.11/lib/python/site-packages (from openpyxl) (1.1.0)\n",
      "Note: you may need to restart the kernel to use updated packages.\n"
     ]
    },
    {
     "name": "stderr",
     "output_type": "stream",
     "text": [
      "Python(20558) MallocStackLogging: can't turn off malloc stack logging because it was not enabled.\n"
     ]
    },
    {
     "name": "stdout",
     "output_type": "stream",
     "text": [
      "Defaulting to user installation because normal site-packages is not writeable\n",
      "Requirement already satisfied: matplotlib in /Users/michaelmallamaci/Library/Python/3.11/lib/python/site-packages (3.8.3)\n",
      "Requirement already satisfied: contourpy>=1.0.1 in /Users/michaelmallamaci/Library/Python/3.11/lib/python/site-packages (from matplotlib) (1.2.0)\n",
      "Requirement already satisfied: cycler>=0.10 in /Users/michaelmallamaci/Library/Python/3.11/lib/python/site-packages (from matplotlib) (0.12.1)\n",
      "Requirement already satisfied: fonttools>=4.22.0 in /Users/michaelmallamaci/Library/Python/3.11/lib/python/site-packages (from matplotlib) (4.49.0)\n",
      "Requirement already satisfied: kiwisolver>=1.3.1 in /Users/michaelmallamaci/Library/Python/3.11/lib/python/site-packages (from matplotlib) (1.4.5)\n",
      "Requirement already satisfied: numpy<2,>=1.21 in /Users/michaelmallamaci/Library/Python/3.11/lib/python/site-packages (from matplotlib) (1.26.4)\n",
      "Requirement already satisfied: packaging>=20.0 in /Users/michaelmallamaci/Library/Python/3.11/lib/python/site-packages (from matplotlib) (23.2)\n",
      "Requirement already satisfied: pillow>=8 in /Users/michaelmallamaci/Library/Python/3.11/lib/python/site-packages (from matplotlib) (10.2.0)\n",
      "Requirement already satisfied: pyparsing>=2.3.1 in /Users/michaelmallamaci/Library/Python/3.11/lib/python/site-packages (from matplotlib) (3.1.1)\n",
      "Requirement already satisfied: python-dateutil>=2.7 in /Users/michaelmallamaci/Library/Python/3.11/lib/python/site-packages (from matplotlib) (2.9.0.post0)\n",
      "Requirement already satisfied: six>=1.5 in /Users/michaelmallamaci/Library/Python/3.11/lib/python/site-packages (from python-dateutil>=2.7->matplotlib) (1.16.0)\n",
      "Note: you may need to restart the kernel to use updated packages.\n"
     ]
    },
    {
     "name": "stderr",
     "output_type": "stream",
     "text": [
      "Python(20561) MallocStackLogging: can't turn off malloc stack logging because it was not enabled.\n"
     ]
    },
    {
     "name": "stdout",
     "output_type": "stream",
     "text": [
      "Defaulting to user installation because normal site-packages is not writeable\n",
      "Requirement already satisfied: statsmodels in /Users/michaelmallamaci/Library/Python/3.11/lib/python/site-packages (0.14.1)\n",
      "Requirement already satisfied: numpy<2,>=1.18 in /Users/michaelmallamaci/Library/Python/3.11/lib/python/site-packages (from statsmodels) (1.26.4)\n",
      "Requirement already satisfied: scipy!=1.9.2,>=1.4 in /Users/michaelmallamaci/Library/Python/3.11/lib/python/site-packages (from statsmodels) (1.12.0)\n",
      "Requirement already satisfied: pandas!=2.1.0,>=1.0 in /Users/michaelmallamaci/Library/Python/3.11/lib/python/site-packages (from statsmodels) (2.2.1)\n",
      "Requirement already satisfied: patsy>=0.5.4 in /Users/michaelmallamaci/Library/Python/3.11/lib/python/site-packages (from statsmodels) (0.5.6)\n",
      "Requirement already satisfied: packaging>=21.3 in /Users/michaelmallamaci/Library/Python/3.11/lib/python/site-packages (from statsmodels) (23.2)\n",
      "Requirement already satisfied: python-dateutil>=2.8.2 in /Users/michaelmallamaci/Library/Python/3.11/lib/python/site-packages (from pandas!=2.1.0,>=1.0->statsmodels) (2.9.0.post0)\n",
      "Requirement already satisfied: pytz>=2020.1 in /Users/michaelmallamaci/Library/Python/3.11/lib/python/site-packages (from pandas!=2.1.0,>=1.0->statsmodels) (2024.1)\n",
      "Requirement already satisfied: tzdata>=2022.7 in /Users/michaelmallamaci/Library/Python/3.11/lib/python/site-packages (from pandas!=2.1.0,>=1.0->statsmodels) (2024.1)\n",
      "Requirement already satisfied: six in /Users/michaelmallamaci/Library/Python/3.11/lib/python/site-packages (from patsy>=0.5.4->statsmodels) (1.16.0)\n",
      "Note: you may need to restart the kernel to use updated packages.\n"
     ]
    },
    {
     "name": "stderr",
     "output_type": "stream",
     "text": [
      "Python(20564) MallocStackLogging: can't turn off malloc stack logging because it was not enabled.\n"
     ]
    },
    {
     "name": "stdout",
     "output_type": "stream",
     "text": [
      "Defaulting to user installation because normal site-packages is not writeable\n",
      "Collecting sklearn\n",
      "  Using cached sklearn-0.0.post12.tar.gz (2.6 kB)\n",
      "  Installing build dependencies ... \u001b[?25ldone\n",
      "\u001b[?25h  Getting requirements to build wheel ... \u001b[?25lerror\n",
      "  \u001b[1;31merror\u001b[0m: \u001b[1msubprocess-exited-with-error\u001b[0m\n",
      "  \n",
      "  \u001b[31m×\u001b[0m \u001b[32mGetting requirements to build wheel\u001b[0m did not run successfully.\n",
      "  \u001b[31m│\u001b[0m exit code: \u001b[1;36m1\u001b[0m\n",
      "  \u001b[31m╰─>\u001b[0m \u001b[31m[15 lines of output]\u001b[0m\n",
      "  \u001b[31m   \u001b[0m The 'sklearn' PyPI package is deprecated, use 'scikit-learn'\n",
      "  \u001b[31m   \u001b[0m rather than 'sklearn' for pip commands.\n",
      "  \u001b[31m   \u001b[0m \n",
      "  \u001b[31m   \u001b[0m Here is how to fix this error in the main use cases:\n",
      "  \u001b[31m   \u001b[0m - use 'pip install scikit-learn' rather than 'pip install sklearn'\n",
      "  \u001b[31m   \u001b[0m - replace 'sklearn' by 'scikit-learn' in your pip requirements files\n",
      "  \u001b[31m   \u001b[0m   (requirements.txt, setup.py, setup.cfg, Pipfile, etc ...)\n",
      "  \u001b[31m   \u001b[0m - if the 'sklearn' package is used by one of your dependencies,\n",
      "  \u001b[31m   \u001b[0m   it would be great if you take some time to track which package uses\n",
      "  \u001b[31m   \u001b[0m   'sklearn' instead of 'scikit-learn' and report it to their issue tracker\n",
      "  \u001b[31m   \u001b[0m - as a last resort, set the environment variable\n",
      "  \u001b[31m   \u001b[0m   SKLEARN_ALLOW_DEPRECATED_SKLEARN_PACKAGE_INSTALL=True to avoid this error\n",
      "  \u001b[31m   \u001b[0m \n",
      "  \u001b[31m   \u001b[0m More information is available at\n",
      "  \u001b[31m   \u001b[0m https://github.com/scikit-learn/sklearn-pypi-package\n",
      "  \u001b[31m   \u001b[0m \u001b[31m[end of output]\u001b[0m\n",
      "  \n",
      "  \u001b[1;35mnote\u001b[0m: This error originates from a subprocess, and is likely not a problem with pip.\n",
      "\u001b[?25h\u001b[1;31merror\u001b[0m: \u001b[1msubprocess-exited-with-error\u001b[0m\n",
      "\n",
      "\u001b[31m×\u001b[0m \u001b[32mGetting requirements to build wheel\u001b[0m did not run successfully.\n",
      "\u001b[31m│\u001b[0m exit code: \u001b[1;36m1\u001b[0m\n",
      "\u001b[31m╰─>\u001b[0m See above for output.\n",
      "\n",
      "\u001b[1;35mnote\u001b[0m: This error originates from a subprocess, and is likely not a problem with pip.\n",
      "Note: you may need to restart the kernel to use updated packages.\n"
     ]
    },
    {
     "name": "stderr",
     "output_type": "stream",
     "text": [
      "Python(20571) MallocStackLogging: can't turn off malloc stack logging because it was not enabled.\n"
     ]
    },
    {
     "name": "stdout",
     "output_type": "stream",
     "text": [
      "Defaulting to user installation because normal site-packages is not writeable\n",
      "Requirement already satisfied: prophet in /Users/michaelmallamaci/Library/Python/3.11/lib/python/site-packages (1.1.5)\n",
      "Requirement already satisfied: cmdstanpy>=1.0.4 in /Users/michaelmallamaci/Library/Python/3.11/lib/python/site-packages (from prophet) (1.2.2)\n",
      "Requirement already satisfied: numpy>=1.15.4 in /Users/michaelmallamaci/Library/Python/3.11/lib/python/site-packages (from prophet) (1.26.4)\n",
      "Requirement already satisfied: matplotlib>=2.0.0 in /Users/michaelmallamaci/Library/Python/3.11/lib/python/site-packages (from prophet) (3.8.3)\n",
      "Requirement already satisfied: pandas>=1.0.4 in /Users/michaelmallamaci/Library/Python/3.11/lib/python/site-packages (from prophet) (2.2.1)\n",
      "Requirement already satisfied: holidays>=0.25 in /Users/michaelmallamaci/Library/Python/3.11/lib/python/site-packages (from prophet) (0.47)\n",
      "Requirement already satisfied: tqdm>=4.36.1 in /Users/michaelmallamaci/Library/Python/3.11/lib/python/site-packages (from prophet) (4.66.2)\n",
      "Requirement already satisfied: importlib-resources in /Users/michaelmallamaci/Library/Python/3.11/lib/python/site-packages (from prophet) (6.4.0)\n",
      "Requirement already satisfied: stanio<2.0.0,>=0.4.0 in /Users/michaelmallamaci/Library/Python/3.11/lib/python/site-packages (from cmdstanpy>=1.0.4->prophet) (0.5.0)\n",
      "Requirement already satisfied: python-dateutil in /Users/michaelmallamaci/Library/Python/3.11/lib/python/site-packages (from holidays>=0.25->prophet) (2.9.0.post0)\n",
      "Requirement already satisfied: contourpy>=1.0.1 in /Users/michaelmallamaci/Library/Python/3.11/lib/python/site-packages (from matplotlib>=2.0.0->prophet) (1.2.0)\n",
      "Requirement already satisfied: cycler>=0.10 in /Users/michaelmallamaci/Library/Python/3.11/lib/python/site-packages (from matplotlib>=2.0.0->prophet) (0.12.1)\n",
      "Requirement already satisfied: fonttools>=4.22.0 in /Users/michaelmallamaci/Library/Python/3.11/lib/python/site-packages (from matplotlib>=2.0.0->prophet) (4.49.0)\n",
      "Requirement already satisfied: kiwisolver>=1.3.1 in /Users/michaelmallamaci/Library/Python/3.11/lib/python/site-packages (from matplotlib>=2.0.0->prophet) (1.4.5)\n",
      "Requirement already satisfied: packaging>=20.0 in /Users/michaelmallamaci/Library/Python/3.11/lib/python/site-packages (from matplotlib>=2.0.0->prophet) (23.2)\n",
      "Requirement already satisfied: pillow>=8 in /Users/michaelmallamaci/Library/Python/3.11/lib/python/site-packages (from matplotlib>=2.0.0->prophet) (10.2.0)\n",
      "Requirement already satisfied: pyparsing>=2.3.1 in /Users/michaelmallamaci/Library/Python/3.11/lib/python/site-packages (from matplotlib>=2.0.0->prophet) (3.1.1)\n",
      "Requirement already satisfied: pytz>=2020.1 in /Users/michaelmallamaci/Library/Python/3.11/lib/python/site-packages (from pandas>=1.0.4->prophet) (2024.1)\n",
      "Requirement already satisfied: tzdata>=2022.7 in /Users/michaelmallamaci/Library/Python/3.11/lib/python/site-packages (from pandas>=1.0.4->prophet) (2024.1)\n",
      "Requirement already satisfied: six>=1.5 in /Users/michaelmallamaci/Library/Python/3.11/lib/python/site-packages (from python-dateutil->holidays>=0.25->prophet) (1.16.0)\n",
      "Note: you may need to restart the kernel to use updated packages.\n"
     ]
    }
   ],
   "source": [
    "%pip install numpy\n",
    "%pip install pandas\n",
    "%pip install openpyxl\n",
    "%pip install matplotlib\n",
    "%pip install statsmodels\n",
    "%pip install sklearn\n",
    "%pip install prophet"
   ]
  },
  {
   "cell_type": "code",
   "execution_count": 97,
   "metadata": {},
   "outputs": [],
   "source": [
    "import os\n",
    "import argparse\n",
    "import numpy as np\n",
    "from numpy.linalg import LinAlgError\n",
    "import pandas as pd\n",
    "import matplotlib.pyplot as plt\n",
    "from statsmodels.tsa.statespace.sarimax import SARIMAX\n",
    "from statsmodels.tsa.arima.model import ARIMA\n",
    "from sklearn.metrics import mean_squared_error\n",
    "from prophet import Prophet"
   ]
  },
  {
   "cell_type": "markdown",
   "metadata": {},
   "source": [
    "# Input Arguments"
   ]
  },
  {
   "cell_type": "code",
   "execution_count": 119,
   "metadata": {},
   "outputs": [
    {
     "name": "stdout",
     "output_type": "stream",
     "text": [
      "2022-01    4648168.81\n",
      "2022-02    4884602.75\n",
      "2022-03    5904520.66\n",
      "2022-04    5377780.84\n",
      "2022-05    7510536.98\n",
      "2022-06    7897622.33\n",
      "2022-07    7214236.39\n",
      "2022-08    8017803.38\n",
      "2022-09    7962723.71\n",
      "2022-10    7379876.92\n",
      "2022-11    7755809.19\n",
      "2022-12    7614458.17\n",
      "dtype: float64\n",
      "2022-01    4.934541e+06\n",
      "2022-02    4.901539e+06\n",
      "2022-03    5.291716e+06\n",
      "2022-04    5.069748e+06\n",
      "2022-05    5.323854e+06\n",
      "2022-06    5.086047e+06\n",
      "2022-07    5.171267e+06\n",
      "2022-08    5.469571e+06\n",
      "2022-09    5.318324e+06\n",
      "2022-10    5.522245e+06\n",
      "2022-11    5.396505e+06\n",
      "2022-12    5.705386e+06\n",
      "dtype: float64\n"
     ]
    }
   ],
   "source": [
    "NUMBER_OF_MONTHS = 12\n",
    "MEDIUM_THRESHOLD = 200000 # in dollars\n",
    "LARGE_THRESHOLD = 533000 # in dollars\n",
    "\n",
    "actual_file_path = 'NEW CBO EBO Revenue 21-22.xlsx'\n",
    "three_month_file_path = 'NEW TruCast Three Month.xlsx'\n",
    "arima_file_path = 'NEW TruCast Arima.xlsx'\n",
    "prophet_file_path = 'NEW TruCast Prophet 21-22.xlsx'\n",
    "combined_file_path = 'NEW TruCast Output 2023.xlsx'\n",
    "\n",
    "actual = pd.read_excel(actual_file_path, index_col='site').fillna(0)\n",
    "three_month = pd.read_excel(three_month_file_path, index_col='site').fillna(0)\n",
    "arima = pd.read_excel(arima_file_path, index_col='site').fillna(0)\n",
    "prophet = pd.read_excel(prophet_file_path, index_col='site').fillna(0)\n",
    "combined = pd.read_excel(combined_file_path, index_col='site').fillna(0)\n",
    "#print(actual.columns)\n",
    "#actual.columns = actual.columns.strftime('%Y-%m')\n",
    "\n",
    "actual['Size'] = actual.iloc[:, -2*NUMBER_OF_MONTHS:-NUMBER_OF_MONTHS].sum(axis=1)\n",
    "actual['Size'] = actual['Size'].apply(lambda x: 'LARGE' if x > LARGE_THRESHOLD else ('MEDIUM' if MEDIUM_THRESHOLD <= x else 'SMALL'))\n",
    "actual.set_index('Size', append=True, inplace=True)\n",
    "\n",
    "three_month['Size'] = three_month.iloc[:, -2*NUMBER_OF_MONTHS:-NUMBER_OF_MONTHS].sum(axis=1)\n",
    "three_month['Size'] = three_month['Size'].apply(lambda x: 'LARGE' if x > LARGE_THRESHOLD else ('MEDIUM' if MEDIUM_THRESHOLD <= x else 'SMALL'))\n",
    "three_month.set_index('Size', append=True, inplace=True)\n",
    "\n",
    "arima['Size'] = arima.iloc[:, -2*NUMBER_OF_MONTHS:-NUMBER_OF_MONTHS].sum(axis=1)\n",
    "arima['Size'] = arima['Size'].apply(lambda x: 'LARGE' if x > LARGE_THRESHOLD else ('MEDIUM' if MEDIUM_THRESHOLD <= x else 'SMALL'))\n",
    "arima.set_index('Size', append=True, inplace=True)\n",
    "\n",
    "prophet['Size'] = prophet.iloc[:, -2*NUMBER_OF_MONTHS:-NUMBER_OF_MONTHS].sum(axis=1)\n",
    "prophet['Size'] = prophet['Size'].apply(lambda x: 'LARGE' if x > LARGE_THRESHOLD else ('MEDIUM' if MEDIUM_THRESHOLD <= x else 'SMALL'))\n",
    "prophet.set_index('Size', append=True, inplace=True)\n",
    "\n",
    "combined['Size'] = combined.iloc[:, -2*NUMBER_OF_MONTHS:-NUMBER_OF_MONTHS].sum(axis=1)\n",
    "combined['Size'] = combined['Size'].apply(lambda x: 'LARGE' if x > LARGE_THRESHOLD else ('MEDIUM' if MEDIUM_THRESHOLD <= x else 'SMALL'))\n",
    "combined.set_index('Size', append=True, inplace=True)\n",
    "\n",
    "actual_series = actual.sum(axis=0)\n",
    "actual_series.to_csv('GRAPH_actuals.csv')\n",
    "combined_series = combined.iloc[:, -NUMBER_OF_MONTHS:].sum(axis=0)\n",
    "combined_series.to_csv('GRAPH_combined.csv')\n",
    "\n",
    "actual = actual.iloc[:, -NUMBER_OF_MONTHS:]\n",
    "three_month = three_month.iloc[:, -NUMBER_OF_MONTHS:]\n",
    "arima = arima.iloc[:, -NUMBER_OF_MONTHS:]\n",
    "prophet = prophet.iloc[:, -NUMBER_OF_MONTHS:]\n",
    "combined = combined.iloc[:, -NUMBER_OF_MONTHS:]\n",
    "\n",
    "actual_series = actual.sum(axis=0)\n",
    "three_month_series = three_month.sum(axis=0)\n",
    "arima_series = arima.sum(axis=0)\n",
    "prophet_series = prophet.sum(axis=0)\n",
    "combined_series = combined.sum(axis=0)\n",
    "\n",
    "\n",
    "print(actual_series)\n",
    "print(prophet_series)"
   ]
  },
  {
   "cell_type": "code",
   "execution_count": 120,
   "metadata": {},
   "outputs": [
    {
     "name": "stdout",
     "output_type": "stream",
     "text": [
      "3 Month Absolute Percent Difference: nan\n",
      "ARIMA Absolute Percent Difference: nan\n",
      "Prophet Absolute Percent Difference: 21.775238844006083\n",
      "Combined Absolute Percent Difference: nan\n"
     ]
    }
   ],
   "source": [
    "# Calculate Absolute Percent Difference\n",
    "\n",
    "three_month_abs_percent_difference = (abs(three_month_series - actual_series) / actual_series * 100).mean()\n",
    "arima_abs_percent_difference = (abs(arima_series - actual_series) / actual_series * 100).mean()\n",
    "prophet_abs_percent_difference = (abs(prophet_series - actual_series) / actual_series * 100).mean()\n",
    "combined_abs_percent_difference = (abs(combined_series - actual_series) / actual_series * 100).mean()\n",
    "\n",
    "print(\"3 Month Absolute Percent Difference:\", three_month_abs_percent_difference)\n",
    "print(\"ARIMA Absolute Percent Difference:\", arima_abs_percent_difference)\n",
    "print(\"Prophet Absolute Percent Difference:\", prophet_abs_percent_difference)\n",
    "print(\"Combined Absolute Percent Difference:\", combined_abs_percent_difference)"
   ]
  },
  {
   "cell_type": "code",
   "execution_count": 121,
   "metadata": {},
   "outputs": [
    {
     "name": "stdout",
     "output_type": "stream",
     "text": [
      "3 Month Percent Difference: nan\n",
      "ARIMA Percent Difference: nan\n",
      "Prophet Percent Difference: -20.69062392698441\n",
      "Combined Percent Difference: nan\n",
      "3 Month Dollar Difference: 0.0\n",
      "ARIMA Dollar Difference: 0.0\n",
      "Prophet Dollar Difference: -18977397.201599173\n",
      "Combined Dollar Difference: 0.0\n"
     ]
    }
   ],
   "source": [
    "# Calculate Percent Different\n",
    "\n",
    "three_month_abs_percent_difference = ((three_month_series - actual_series) / actual_series * 100).mean()\n",
    "arima_abs_percent_difference = ((arima_series - actual_series) / actual_series * 100).mean()\n",
    "prophet_abs_percent_difference = ((prophet_series - actual_series) / actual_series * 100).mean()\n",
    "combined_abs_percent_difference = ((combined_series - actual_series) / actual_series * 100).mean()\n",
    "\n",
    "three_month_abs_difference = ((three_month_series - actual_series)).sum()\n",
    "arima_abs_difference = ((arima_series - actual_series)).sum()\n",
    "prophet_abs_difference = ((prophet_series - actual_series)).sum()\n",
    "combined_abs_difference = ((combined_series - actual_series)).sum()\n",
    "\n",
    "print(\"3 Month Percent Difference:\", three_month_abs_percent_difference)\n",
    "print(\"ARIMA Percent Difference:\", arima_abs_percent_difference)\n",
    "print(\"Prophet Percent Difference:\", prophet_abs_percent_difference)\n",
    "print(\"Combined Percent Difference:\", combined_abs_percent_difference)\n",
    "\n",
    "print(\"3 Month Dollar Difference:\", three_month_abs_difference)\n",
    "print(\"ARIMA Dollar Difference:\", arima_abs_difference)\n",
    "print(\"Prophet Dollar Difference:\", prophet_abs_difference)\n",
    "print(\"Combined Dollar Difference:\", combined_abs_difference)"
   ]
  },
  {
   "cell_type": "markdown",
   "metadata": {},
   "source": [
    "# Graph Residuals"
   ]
  },
  {
   "cell_type": "code",
   "execution_count": 122,
   "metadata": {},
   "outputs": [
    {
     "data": {
      "image/png": "[encoded data removed]",
      "text/plain": [
       "<Figure size 1000x600 with 1 Axes>"
      ]
     },
     "metadata": {},
     "output_type": "display_data"
    }
   ],
   "source": [
    "# Calculate residuals for each method\n",
    "three_month_residuals = actual_series - three_month_series\n",
    "arima_residuals = actual_series - arima_series\n",
    "prophet_residuals = actual_series - prophet_series\n",
    "combined_residuals = actual_series - combined_series\n",
    "\n",
    "# Plot residuals\n",
    "plt.figure(figsize=(10, 6))\n",
    "plt.plot(three_month_residuals, label='Three Month Residuals', color='Orange')\n",
    "plt.plot(arima_residuals, label='ARIMA Residuals', color='Green')\n",
    "plt.plot(prophet_residuals, label='Prophet Residuals', color='Red')\n",
    "plt.plot(combined_residuals, label='Combined Residuals', color='Blue')\n",
    "\n",
    "plt.xlabel('Date')\n",
    "plt.ylabel('Residuals')\n",
    "plt.title('Residuals of Different Methods')\n",
    "plt.legend()\n",
    "plt.xticks(actual_series.index[::2], rotation=45)\n",
    "plt.grid(True)\n",
    "plt.show()"
   ]
  },
  {
   "cell_type": "markdown",
   "metadata": {},
   "source": [
    "# Different Sizes"
   ]
  },
  {
   "cell_type": "code",
   "execution_count": 123,
   "metadata": {},
   "outputs": [],
   "source": [
    "actual_series_small = actual.loc[(slice(None), 'SMALL'), :].sum(axis=0)\n",
    "three_month_series_small = three_month.loc[(slice(None), 'SMALL'), :].sum(axis=0)\n",
    "arima_series_small = arima.loc[(slice(None), 'SMALL'), :].sum(axis=0)\n",
    "prophet_series_small = prophet.loc[(slice(None), 'SMALL'), :].sum(axis=0)\n",
    "combined_series_small = combined.loc[(slice(None), 'SMALL'), :].sum(axis=0)\n",
    "\n",
    "actual_series_medium = actual.loc[(slice(None), 'MEDIUM'), :].sum(axis=0)\n",
    "three_month_series_medium = three_month.loc[(slice(None), 'MEDIUM'), :].sum(axis=0)\n",
    "arima_series_medium = arima.loc[(slice(None), 'MEDIUM'), :].sum(axis=0)\n",
    "prophet_series_medium = prophet.loc[(slice(None), 'MEDIUM'), :].sum(axis=0)\n",
    "combined_series_medium = combined.loc[(slice(None), 'MEDIUM'), :].sum(axis=0)\n",
    "\n",
    "actual_series_large = actual.loc[(slice(None), 'LARGE'), :].sum(axis=0)\n",
    "three_month_series_large = three_month.loc[(slice(None), 'LARGE'), :].sum(axis=0)\n",
    "arima_series_large = arima.loc[(slice(None), 'LARGE'), :].sum(axis=0)\n",
    "prophet_series_large = prophet.loc[(slice(None), 'LARGE'), :].sum(axis=0)\n",
    "combined_series_large = combined.loc[(slice(None), 'LARGE'), :].sum(axis=0)"
   ]
  },
  {
   "cell_type": "code",
   "execution_count": 124,
   "metadata": {},
   "outputs": [
    {
     "name": "stdout",
     "output_type": "stream",
     "text": [
      "3 Month Percent Difference: nan\n",
      "ARIMA Percent Difference: nan\n",
      "Prophet Percent Difference: -20.69062392698441\n",
      "Combined Percent Difference: nan\n"
     ]
    }
   ],
   "source": [
    "three_month_percent_difference = ((three_month_series - actual_series) / actual_series * 100).mean()\n",
    "arima_percent_difference = ((arima_series - actual_series) / actual_series * 100).mean()\n",
    "prophet_percent_difference = ((prophet_series - actual_series) / actual_series * 100).mean()\n",
    "combined_percent_difference = ((combined_series - actual_series) / actual_series * 100).mean()\n",
    "\n",
    "print(\"3 Month Percent Difference:\", three_month_percent_difference)\n",
    "print(\"ARIMA Percent Difference:\", arima_percent_difference)\n",
    "print(\"Prophet Percent Difference:\", prophet_percent_difference)\n",
    "print(\"Combined Percent Difference:\", combined_percent_difference)"
   ]
  },
  {
   "cell_type": "code",
   "execution_count": 125,
   "metadata": {},
   "outputs": [
    {
     "data": {
      "text/html": [
       "<div>\n",
       "<style scoped>\n",
       "    .dataframe tbody tr th:only-of-type {\n",
       "        vertical-align: middle;\n",
       "    }\n",
       "\n",
       "    .dataframe tbody tr th {\n",
       "        vertical-align: top;\n",
       "    }\n",
       "\n",
       "    .dataframe thead th {\n",
       "        text-align: right;\n",
       "    }\n",
       "</style>\n",
       "<table border=\"1\" class=\"dataframe\">\n",
       "  <thead>\n",
       "    <tr style=\"text-align: right;\">\n",
       "      <th></th>\n",
       "      <th>3 Month</th>\n",
       "      <th>ARIMA</th>\n",
       "      <th>Prophet</th>\n",
       "      <th>Combined</th>\n",
       "      <th>3 Month (ABS)</th>\n",
       "      <th>ARIMA (ABS)</th>\n",
       "      <th>Prophet (ABS)</th>\n",
       "      <th>Combined (ABS)</th>\n",
       "    </tr>\n",
       "  </thead>\n",
       "  <tbody>\n",
       "    <tr>\n",
       "      <th>SMALL</th>\n",
       "      <td>NaN</td>\n",
       "      <td>NaN</td>\n",
       "      <td>-57.228944</td>\n",
       "      <td>NaN</td>\n",
       "      <td>NaN</td>\n",
       "      <td>NaN</td>\n",
       "      <td>57.228944</td>\n",
       "      <td>NaN</td>\n",
       "    </tr>\n",
       "    <tr>\n",
       "      <th>MEDIUM</th>\n",
       "      <td>NaN</td>\n",
       "      <td>NaN</td>\n",
       "      <td>15.656594</td>\n",
       "      <td>NaN</td>\n",
       "      <td>NaN</td>\n",
       "      <td>NaN</td>\n",
       "      <td>15.995084</td>\n",
       "      <td>NaN</td>\n",
       "    </tr>\n",
       "    <tr>\n",
       "      <th>LARGE</th>\n",
       "      <td>NaN</td>\n",
       "      <td>NaN</td>\n",
       "      <td>13.165545</td>\n",
       "      <td>NaN</td>\n",
       "      <td>NaN</td>\n",
       "      <td>NaN</td>\n",
       "      <td>13.267082</td>\n",
       "      <td>NaN</td>\n",
       "    </tr>\n",
       "    <tr>\n",
       "      <th>TOTAL</th>\n",
       "      <td>NaN</td>\n",
       "      <td>NaN</td>\n",
       "      <td>-20.690624</td>\n",
       "      <td>NaN</td>\n",
       "      <td>NaN</td>\n",
       "      <td>NaN</td>\n",
       "      <td>21.775239</td>\n",
       "      <td>NaN</td>\n",
       "    </tr>\n",
       "  </tbody>\n",
       "</table>\n",
       "</div>"
      ],
      "text/plain": [
       "        3 Month  ARIMA    Prophet  Combined  3 Month (ABS)  ARIMA (ABS)  \\\n",
       "SMALL       NaN    NaN -57.228944       NaN            NaN          NaN   \n",
       "MEDIUM      NaN    NaN  15.656594       NaN            NaN          NaN   \n",
       "LARGE       NaN    NaN  13.165545       NaN            NaN          NaN   \n",
       "TOTAL       NaN    NaN -20.690624       NaN            NaN          NaN   \n",
       "\n",
       "        Prophet (ABS)  Combined (ABS)  \n",
       "SMALL       57.228944             NaN  \n",
       "MEDIUM      15.995084             NaN  \n",
       "LARGE       13.267082             NaN  \n",
       "TOTAL       21.775239             NaN  "
      ]
     },
     "execution_count": 125,
     "metadata": {},
     "output_type": "execute_result"
    }
   ],
   "source": [
    "categories = ['SMALL', 'MEDIUM', 'LARGE', 'TOTAL']\n",
    "\n",
    "results = []\n",
    "for category in categories:\n",
    "    if category == 'TOTAL':\n",
    "        # Calculate for the total data without filtering by category\n",
    "        actual_series_cat = actual.sum(axis=0)\n",
    "        three_month_series_cat = three_month.sum(axis=0)\n",
    "        arima_series_cat = arima.sum(axis=0)\n",
    "        prophet_series_cat = prophet.sum(axis=0)\n",
    "        combined_series_cat = combined.sum(axis=0)\n",
    "    else:\n",
    "        # Calculate for each category\n",
    "        actual_series_cat = actual.loc[(slice(None), category), :].sum(axis=0)\n",
    "        three_month_series_cat = three_month.loc[(slice(None), category), :].sum(axis=0)\n",
    "        arima_series_cat = arima.loc[(slice(None), category), :].sum(axis=0)\n",
    "        prophet_series_cat = prophet.loc[(slice(None), category), :].sum(axis=0)\n",
    "        combined_series_cat = combined.loc[(slice(None), category), :].sum(axis=0)\n",
    "\n",
    "    three_month_percent_diff = ((three_month_series_cat - actual_series_cat) / actual_series_cat * 100).mean()\n",
    "    arima_percent_diff = ((arima_series_cat - actual_series_cat) / actual_series_cat * 100).mean()\n",
    "    prophet_percent_diff = ((prophet_series_cat - actual_series_cat) / actual_series_cat * 100).mean()\n",
    "    combined_percent_diff = ((combined_series_cat - actual_series_cat) / actual_series_cat * 100).mean()\n",
    "\n",
    "    three_month_abs_percent_diff = (abs(three_month_series_cat - actual_series_cat) / actual_series_cat * 100).mean()\n",
    "    arima_abs_percent_diff = (abs(arima_series_cat - actual_series_cat) / actual_series_cat * 100).mean()\n",
    "    prophet_abs_percent_diff = (abs(prophet_series_cat - actual_series_cat) / actual_series_cat * 100).mean()\n",
    "    combined_abs_percent_diff = (abs(combined_series_cat - actual_series_cat) / actual_series_cat * 100).mean()\n",
    "    \n",
    "    results.append([three_month_percent_diff, arima_percent_diff, prophet_percent_diff, combined_percent_diff, three_month_abs_percent_diff, arima_abs_percent_diff, prophet_abs_percent_diff, combined_abs_percent_diff])\n",
    "\n",
    "# Create DataFrame for results\n",
    "results_df = pd.DataFrame(results, index=categories, columns=['3 Month', 'ARIMA', 'Prophet', 'Combined', '3 Month (ABS)', 'ARIMA (ABS)', 'Prophet (ABS)', 'Combined (ABS)'])\n",
    "\n",
    "# Print the table\n",
    "results_df.head()"
   ]
  },
  {
   "cell_type": "code",
   "execution_count": null,
   "metadata": {},
   "outputs": [],
   "source": []
  }
 ],
 "metadata": {
  "kernelspec": {
   "display_name": "Python 3 (ipykernel)",
   "language": "python",
   "name": "python3"
  },
  "language_info": {
   "codemirror_mode": {
    "name": "ipython",
    "version": 3
   },
   "file_extension": ".py",
   "mimetype": "text/x-python",
   "name": "python",
   "nbconvert_exporter": "python",
   "pygments_lexer": "ipython3",
   "version": "3.11.6"
  }
 },
 "nbformat": 4,
 "nbformat_minor": 2
}
